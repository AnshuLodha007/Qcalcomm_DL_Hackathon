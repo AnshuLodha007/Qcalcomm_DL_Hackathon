{
  "cells": [
    {
      "cell_type": "markdown",
      "metadata": {
        "id": "hc5YOvRxr5DO"
      },
      "source": [
        "# Deep Learning Hackathon\n",
        "\n",
        "The problem statement deals with creating a CNN Binary Classification Model.\n",
        "\n",
        "The complete solution in broken into parts:\n",
        "1. Acquiring and Processing Images\n",
        "2. Checking image dimensions and trying transformations.\n",
        "3. Defining the transform functions for train and val/test datasets.\n",
        "4. Separating images into labelled sub-directories and Performing stratified train-test splits.\n",
        "5. Building Model\n",
        "6. Predicting Test set verdicts.\n",
        "\n",
        "Throughout the problem solving assesment we have used multiple different models:\n",
        "\n",
        "**Model 1:** Random Model created from scratch.\n",
        "\n",
        "**Model 2:** Hyperparameter tuning for Model 1.\n",
        "\n",
        "**Model 3:** Retuning of top 4 models from Model 3 results with early stopping and selecting the best model.\n",
        "\n",
        "**Model 4:** ResNet with Transfer Learning and early stopping.\n",
        "\n",
        "**Model 5:** Training ResNet 18 from scratch with early stopping.\n"
      ]
    },
    {
      "cell_type": "markdown",
      "metadata": {
        "id": "aNueM_qsr5DR"
      },
      "source": [
        "## Aquiring the Images from github repo.\n",
        "\n",
        "1. Clone the repository\n",
        "2. Extract the images in the zip folders\n",
        "3. Merge the Images and make them into a unified images folder."
      ]
    },
    {
      "cell_type": "code",
      "execution_count": 1,
      "metadata": {
        "id": "ZK1SOYejcpOI"
      },
      "outputs": [],
      "source": [
        "import os\n",
        "import shutil\n",
        "\n",
        "if os.path.isdir('/content/Qualcomm-DL-Hackathon'):\n",
        "  shutil.rmtree('/content/Qualcomm-DL-Hackathon', ignore_errors=True)"
      ]
    },
    {
      "cell_type": "code",
      "source": [
        "# Cloning the github.\n",
        "\n",
        "!git clone https://github.com/Prashant-AV/Qualcomm-DL-Hackathon.git"
      ],
      "metadata": {
        "colab": {
          "base_uri": "https://localhost:8080/"
        },
        "id": "Gw7DUecOsEhv",
        "outputId": "0ca60f35-6997-479b-9672-9c3cee47464b"
      },
      "execution_count": 2,
      "outputs": [
        {
          "output_type": "stream",
          "name": "stdout",
          "text": [
            "Cloning into 'Qualcomm-DL-Hackathon'...\n",
            "remote: Enumerating objects: 10, done.\u001b[K\n",
            "remote: Counting objects: 100% (10/10), done.\u001b[K\n",
            "remote: Compressing objects: 100% (10/10), done.\u001b[K\n",
            "remote: Total 10 (delta 1), reused 0 (delta 0), pack-reused 0 (from 0)\u001b[K\n",
            "Receiving objects: 100% (10/10), 30.68 MiB | 28.87 MiB/s, done.\n",
            "Resolving deltas: 100% (1/1), done.\n"
          ]
        }
      ]
    },
    {
      "cell_type": "code",
      "source": [
        "import zipfile\n",
        "import os\n",
        "\n",
        "# Define the paths to your ZIP files\n",
        "zip1_path = '/content/Qualcomm-DL-Hackathon/train/images part-1.zip'\n",
        "zip2_path = '/content/Qualcomm-DL-Hackathon/train/images part-2.zip'\n",
        "\n",
        "# Create a directory to extract the contents\n",
        "extract_dir = '/content/Qualcomm-DL-Hackathon/train/images'\n",
        "os.makedirs(extract_dir, exist_ok=True)\n",
        "\n",
        "# Function to extract a ZIP file into the current working directory\n",
        "def extract_zip(zip_path, extract_to):\n",
        "    with zipfile.ZipFile(zip_path, 'r') as zip_ref:\n",
        "        zip_ref.extractall(extract_to)\n",
        "\n",
        "# Extract the contents of both ZIP files into the current working directory\n",
        "extract_zip(zip1_path, extract_dir)\n",
        "extract_zip(zip2_path, extract_dir)"
      ],
      "metadata": {
        "id": "sHldzNkRsJF-"
      },
      "execution_count": 3,
      "outputs": []
    },
    {
      "cell_type": "code",
      "source": [
        "import shutil\n",
        "\n",
        "# Define the directories to merge\n",
        "dir1 = '/content/Qualcomm-DL-Hackathon/train/images/images part-1'\n",
        "dir2 = '/content/Qualcomm-DL-Hackathon/train/images/images part-2'\n",
        "\n",
        "merged_dir = '/content/Qualcomm-DL-Hackathon/train/images'\n",
        "\n",
        "os.makedirs(merged_dir, exist_ok=True)\n",
        "\n",
        "# Function to copy contents from one directory to another\n",
        "def merge_directories(src_dir, dest_dir):\n",
        "    for item in os.listdir(src_dir):\n",
        "        s = os.path.join(src_dir, item)\n",
        "        d = os.path.join(dest_dir, item)\n",
        "        if os.path.isdir(s):\n",
        "            shutil.copytree(s, d, dirs_exist_ok=True)\n",
        "        else:\n",
        "            shutil.copy2(s, d)\n",
        "\n",
        "# Merge the contents of both directories\n",
        "merge_directories(dir1, merged_dir)\n",
        "merge_directories(dir2, merged_dir)\n",
        "\n",
        "shutil.rmtree(dir1, ignore_errors=True)\n",
        "shutil.rmtree(dir2, ignore_errors=True)"
      ],
      "metadata": {
        "id": "os75gqs5sPhs"
      },
      "execution_count": 4,
      "outputs": []
    },
    {
      "cell_type": "markdown",
      "source": [
        "## Image PreProcessing\n",
        "\n",
        "In this section we basically work upon getting the train-val sets of images for the project\n",
        "\n",
        "1. Load an image and check the dimensions we are working with.\n",
        "2. Create a transform function for the data set.\n",
        "3. Create train-val split fom the available data."
      ],
      "metadata": {
        "id": "F3DHCBmEsXYd"
      }
    },
    {
      "cell_type": "code",
      "source": [
        "import os\n",
        "\n",
        "import warnings\n",
        "warnings.filterwarnings(\"ignore\")"
      ],
      "metadata": {
        "id": "t0AE3a8zsvVd"
      },
      "execution_count": 5,
      "outputs": []
    },
    {
      "cell_type": "code",
      "execution_count": 6,
      "metadata": {
        "id": "kPbT45War5DS"
      },
      "outputs": [],
      "source": [
        "import torch\n",
        "import torch.nn as nn\n",
        "import torch.optim as optim\n",
        "from torch.utils.data import DataLoader\n",
        "from torchvision import datasets, transforms\n",
        "from torch.utils.data import random_split"
      ]
    },
    {
      "cell_type": "markdown",
      "metadata": {
        "id": "6jLrJFfUr5DT"
      },
      "source": [
        "### Load an Image to check the dimensions and try transformations    "
      ]
    },
    {
      "cell_type": "code",
      "execution_count": 7,
      "metadata": {
        "id": "CaTMpr0MiKkU"
      },
      "outputs": [],
      "source": [
        "from PIL import Image\n",
        "import matplotlib.pyplot as plt\n",
        "import torchvision.transforms as transforms"
      ]
    },
    {
      "cell_type": "code",
      "execution_count": 8,
      "metadata": {
        "colab": {
          "base_uri": "https://localhost:8080/",
          "height": 769
        },
        "id": "c0uE3pf7r5DT",
        "outputId": "fa2e8c6f-906a-4486-972f-28f0e422cfc7"
      },
      "outputs": [
        {
          "output_type": "display_data",
          "data": {
            "text/plain": [
              "<Figure size 400x400 with 1 Axes>"
            ],
            "image/png": "[encoded data removed]"
          },
          "metadata": {}
        },
        {
          "output_type": "stream",
          "name": "stdout",
          "text": [
            "Original Image Dimensions: 224 x 224 pixels\n"
          ]
        },
        {
          "output_type": "stream",
          "name": "stderr",
          "text": [
            "WARNING:matplotlib.image:Clipping input data to the valid range for imshow with RGB data ([0..1] for floats or [0..255] for integers).\n"
          ]
        },
        {
          "output_type": "display_data",
          "data": {
            "text/plain": [
              "<Figure size 400x400 with 1 Axes>"
            ],
            "image/png": "[encoded data removed]"
          },
          "metadata": {}
        },
        {
          "output_type": "stream",
          "name": "stdout",
          "text": [
            "Processed Image Dimensions: 128 x 128 pixels\n"
          ]
        }
      ],
      "source": [
        "# Loading the image.\n",
        "image_path = \"/content/Qualcomm-DL-Hackathon/train/images/1022.jpg\"\n",
        "original_image = Image.open(image_path)  # Open the image\n",
        "\n",
        "# Plotting the Orignal Image.\n",
        "plt.figure(figsize=(4, 4))\n",
        "plt.imshow(original_image)\n",
        "plt.title(\"Original Image\")\n",
        "plt.axis(\"off\")\n",
        "plt.show()\n",
        "\n",
        "# Get the dimensions\n",
        "width, height = original_image.size  # .size returns (width, height)\n",
        "\n",
        "print(f\"Original Image Dimensions: {width} x {height} pixels\")\n",
        "\n",
        "# Creating a dummy Transformer\n",
        "transform_dummy = transforms.Compose([\n",
        "    transforms.Resize((128,128)),  # Make the image smaller (128x128 pixels)\n",
        "    transforms.ToTensor(),       # Convert the image into numbers (tensor)\n",
        "    transforms.Normalize(mean=[0.485, 0.456, 0.406], std=[0.229, 0.224, 0.225]) # Performs mean substraction.\n",
        "])\n",
        "\n",
        "# Processing the loaded Image\n",
        "processed_image_dummy = transform_dummy(original_image)  # Process the image\n",
        "\n",
        "processed_image_for_display_dummy = processed_image_dummy.permute(1,2,0).numpy()  # Rearrange for display\n",
        "\n",
        "# Plotting the Processed Image\n",
        "plt.figure(figsize=(4, 4))\n",
        "plt.imshow(processed_image_for_display_dummy)\n",
        "plt.title(\"processed_image\")\n",
        "plt.axis(\"off\")\n",
        "plt.show()\n",
        "\n",
        "# Get the dimensions\n",
        "to_pil = transforms.ToPILImage()\n",
        "image = to_pil(processed_image_for_display_dummy)\n",
        "\n",
        "width, height = image.size  # .size returns (width, height)\n",
        "print(f\"Processed Image Dimensions: {width} x {height} pixels\")"
      ]
    },
    {
      "cell_type": "code",
      "execution_count": 8,
      "metadata": {
        "id": "MtTn_ABLr5DU"
      },
      "outputs": [],
      "source": []
    },
    {
      "cell_type": "code",
      "execution_count": 8,
      "metadata": {
        "id": "QmHrskQ-r5DV"
      },
      "outputs": [],
      "source": []
    },
    {
      "cell_type": "markdown",
      "metadata": {
        "id": "jFDd5hsdr5DV"
      },
      "source": [
        "\n",
        "\n",
        "**Conclusion:** Transform function to resize image to 256x256, perform horizontal filp, add colorjitter should be used\n",
        "\n"
      ]
    },
    {
      "cell_type": "code",
      "execution_count": 8,
      "metadata": {
        "id": "jXT4vvgPr5DV"
      },
      "outputs": [],
      "source": []
    },
    {
      "cell_type": "code",
      "execution_count": 8,
      "metadata": {
        "id": "nZENd4IUr5DW"
      },
      "outputs": [],
      "source": []
    },
    {
      "cell_type": "markdown",
      "metadata": {
        "id": "K2SCtupwr5DW"
      },
      "source": [
        "## Define Transform functions"
      ]
    },
    {
      "cell_type": "code",
      "execution_count": 9,
      "metadata": {
        "id": "p89_NLzKr5DW"
      },
      "outputs": [],
      "source": [
        "# Define transformers both with and without mean substraction and data augmentations.\n",
        "train_transform = transforms.Compose([\n",
        "    transforms.Resize((256, 256)),\n",
        "    transforms.RandomHorizontalFlip(),  # Randomly flip the image horizontally\n",
        "    transforms.ColorJitter(brightness=0.2, contrast=0.2, saturation=0.2, hue=0.2),  # Random color jitter\n",
        "    transforms.ToTensor(),\n",
        "    transforms.Normalize(mean=[0.485, 0.456, 0.406], std=[0.229, 0.224, 0.225])  # ImageNet mean/std\n",
        "])\n",
        "\n",
        "test_transform = transforms.Compose([\n",
        "    transforms.Resize((256, 256)),\n",
        "    transforms.ToTensor(),\n",
        "    transforms.Normalize(mean=[0.485, 0.456, 0.406], std=[0.229, 0.224, 0.225])  # ImageNet mean/std\n",
        "])"
      ]
    },
    {
      "cell_type": "markdown",
      "metadata": {
        "id": "0-MvyN28r5DW"
      },
      "source": [
        "## Loading Train Data set and Making test data set based on the inputs provided in excel file.\n",
        "\n",
        "For CNNs, it's generally best to organize dataset so that images of each class are in separate folders. This structure helps in:\n",
        "\n",
        "Labeling: It makes it easier to label the images correctly during the data loading process.\n",
        "Data Augmentation: Tools and libraries for data augmentation often expect this structure.\n",
        "Training Efficiency: It helps in efficiently loading and processing the data during training.\n",
        "\n",
        "Therefore, separating the training and testing data sets into labels: 'emergency_vehicle' and 'not_emergency_vehicle'"
      ]
    },
    {
      "cell_type": "markdown",
      "metadata": {
        "id": "TMIV_mQxr5DX"
      },
      "source": [
        "#### Performing train-val split in data set"
      ]
    },
    {
      "cell_type": "code",
      "execution_count": 10,
      "metadata": {
        "id": "4Bdmhq-cr5DX"
      },
      "outputs": [],
      "source": [
        "import pandas as pd\n",
        "\n",
        "train_csv = pd.read_csv('/content/Qualcomm-DL-Hackathon/train/train.csv')"
      ]
    },
    {
      "cell_type": "code",
      "execution_count": 11,
      "metadata": {
        "colab": {
          "base_uri": "https://localhost:8080/",
          "height": 143
        },
        "id": "oBzxqgQSr5DX",
        "outputId": "74e479dd-1f19-4230-98a1-cd9eb035ed54"
      },
      "outputs": [
        {
          "output_type": "execute_result",
          "data": {
            "text/plain": [
              "                  count\n",
              "emergency_or_not       \n",
              "0                   965\n",
              "1                   681"
            ],
            "text/html": [
              "\n",
              "  <div id=\"df-5be9a74a-a4c2-4475-833b-bf545b6ffb37\" class=\"colab-df-container\">\n",
              "    <div>\n",
              "<style scoped>\n",
              "    .dataframe tbody tr th:only-of-type {\n",
              "        vertical-align: middle;\n",
              "    }\n",
              "\n",
              "    .dataframe tbody tr th {\n",
              "        vertical-align: top;\n",
              "    }\n",
              "\n",
              "    .dataframe thead th {\n",
              "        text-align: right;\n",
              "    }\n",
              "</style>\n",
              "<table border=\"1\" class=\"dataframe\">\n",
              "  <thead>\n",
              "    <tr style=\"text-align: right;\">\n",
              "      <th></th>\n",
              "      <th>count</th>\n",
              "    </tr>\n",
              "    <tr>\n",
              "      <th>emergency_or_not</th>\n",
              "      <th></th>\n",
              "    </tr>\n",
              "  </thead>\n",
              "  <tbody>\n",
              "    <tr>\n",
              "      <th>0</th>\n",
              "      <td>965</td>\n",
              "    </tr>\n",
              "    <tr>\n",
              "      <th>1</th>\n",
              "      <td>681</td>\n",
              "    </tr>\n",
              "  </tbody>\n",
              "</table>\n",
              "</div>\n",
              "    <div class=\"colab-df-buttons\">\n",
              "\n",
              "  <div class=\"colab-df-container\">\n",
              "    <button class=\"colab-df-convert\" onclick=\"convertToInteractive('df-5be9a74a-a4c2-4475-833b-bf545b6ffb37')\"\n",
              "            title=\"Convert this dataframe to an interactive table.\"\n",
              "            style=\"display:none;\">\n",
              "\n",
              "  <svg xmlns=\"http://www.w3.org/2000/svg\" height=\"24px\" viewBox=\"0 -960 960 960\">\n",
              "    <path d=\"M120-120v-720h720v720H120Zm60-500h600v-160H180v160Zm220 220h160v-160H400v160Zm0 220h160v-160H400v160ZM180-400h160v-160H180v160Zm440 0h160v-160H620v160ZM180-180h160v-160H180v160Zm440 0h160v-160H620v160Z\"/>\n",
              "  </svg>\n",
              "    </button>\n",
              "\n",
              "  <style>\n",
              "    .colab-df-container {\n",
              "      display:flex;\n",
              "      gap: 12px;\n",
              "    }\n",
              "\n",
              "    .colab-df-convert {\n",
              "      background-color: #E8F0FE;\n",
              "      border: none;\n",
              "      border-radius: 50%;\n",
              "      cursor: pointer;\n",
              "      display: none;\n",
              "      fill: #1967D2;\n",
              "      height: 32px;\n",
              "      padding: 0 0 0 0;\n",
              "      width: 32px;\n",
              "    }\n",
              "\n",
              "    .colab-df-convert:hover {\n",
              "      background-color: #E2EBFA;\n",
              "      box-shadow: 0px 1px 2px rgba(60, 64, 67, 0.3), 0px 1px 3px 1px rgba(60, 64, 67, 0.15);\n",
              "      fill: #174EA6;\n",
              "    }\n",
              "\n",
              "    .colab-df-buttons div {\n",
              "      margin-bottom: 4px;\n",
              "    }\n",
              "\n",
              "    [theme=dark] .colab-df-convert {\n",
              "      background-color: #3B4455;\n",
              "      fill: #D2E3FC;\n",
              "    }\n",
              "\n",
              "    [theme=dark] .colab-df-convert:hover {\n",
              "      background-color: #434B5C;\n",
              "      box-shadow: 0px 1px 3px 1px rgba(0, 0, 0, 0.15);\n",
              "      filter: drop-shadow(0px 1px 2px rgba(0, 0, 0, 0.3));\n",
              "      fill: #FFFFFF;\n",
              "    }\n",
              "  </style>\n",
              "\n",
              "    <script>\n",
              "      const buttonEl =\n",
              "        document.querySelector('#df-5be9a74a-a4c2-4475-833b-bf545b6ffb37 button.colab-df-convert');\n",
              "      buttonEl.style.display =\n",
              "        google.colab.kernel.accessAllowed ? 'block' : 'none';\n",
              "\n",
              "      async function convertToInteractive(key) {\n",
              "        const element = document.querySelector('#df-5be9a74a-a4c2-4475-833b-bf545b6ffb37');\n",
              "        const dataTable =\n",
              "          await google.colab.kernel.invokeFunction('convertToInteractive',\n",
              "                                                    [key], {});\n",
              "        if (!dataTable) return;\n",
              "\n",
              "        const docLinkHtml = 'Like what you see? Visit the ' +\n",
              "          '<a target=\"_blank\" href=https://colab.research.google.com/notebooks/data_table.ipynb>data table notebook</a>'\n",
              "          + ' to learn more about interactive tables.';\n",
              "        element.innerHTML = '';\n",
              "        dataTable['output_type'] = 'display_data';\n",
              "        await google.colab.output.renderOutput(dataTable, element);\n",
              "        const docLink = document.createElement('div');\n",
              "        docLink.innerHTML = docLinkHtml;\n",
              "        element.appendChild(docLink);\n",
              "      }\n",
              "    </script>\n",
              "  </div>\n",
              "\n",
              "\n",
              "<div id=\"df-7e833ee7-2a68-4c76-8eec-46792a48f4fa\">\n",
              "  <button class=\"colab-df-quickchart\" onclick=\"quickchart('df-7e833ee7-2a68-4c76-8eec-46792a48f4fa')\"\n",
              "            title=\"Suggest charts\"\n",
              "            style=\"display:none;\">\n",
              "\n",
              "<svg xmlns=\"http://www.w3.org/2000/svg\" height=\"24px\"viewBox=\"0 0 24 24\"\n",
              "     width=\"24px\">\n",
              "    <g>\n",
              "        <path d=\"M19 3H5c-1.1 0-2 .9-2 2v14c0 1.1.9 2 2 2h14c1.1 0 2-.9 2-2V5c0-1.1-.9-2-2-2zM9 17H7v-7h2v7zm4 0h-2V7h2v10zm4 0h-2v-4h2v4z\"/>\n",
              "    </g>\n",
              "</svg>\n",
              "  </button>\n",
              "\n",
              "<style>\n",
              "  .colab-df-quickchart {\n",
              "      --bg-color: #E8F0FE;\n",
              "      --fill-color: #1967D2;\n",
              "      --hover-bg-color: #E2EBFA;\n",
              "      --hover-fill-color: #174EA6;\n",
              "      --disabled-fill-color: #AAA;\n",
              "      --disabled-bg-color: #DDD;\n",
              "  }\n",
              "\n",
              "  [theme=dark] .colab-df-quickchart {\n",
              "      --bg-color: #3B4455;\n",
              "      --fill-color: #D2E3FC;\n",
              "      --hover-bg-color: #434B5C;\n",
              "      --hover-fill-color: #FFFFFF;\n",
              "      --disabled-bg-color: #3B4455;\n",
              "      --disabled-fill-color: #666;\n",
              "  }\n",
              "\n",
              "  .colab-df-quickchart {\n",
              "    background-color: var(--bg-color);\n",
              "    border: none;\n",
              "    border-radius: 50%;\n",
              "    cursor: pointer;\n",
              "    display: none;\n",
              "    fill: var(--fill-color);\n",
              "    height: 32px;\n",
              "    padding: 0;\n",
              "    width: 32px;\n",
              "  }\n",
              "\n",
              "  .colab-df-quickchart:hover {\n",
              "    background-color: var(--hover-bg-color);\n",
              "    box-shadow: 0 1px 2px rgba(60, 64, 67, 0.3), 0 1px 3px 1px rgba(60, 64, 67, 0.15);\n",
              "    fill: var(--button-hover-fill-color);\n",
              "  }\n",
              "\n",
              "  .colab-df-quickchart-complete:disabled,\n",
              "  .colab-df-quickchart-complete:disabled:hover {\n",
              "    background-color: var(--disabled-bg-color);\n",
              "    fill: var(--disabled-fill-color);\n",
              "    box-shadow: none;\n",
              "  }\n",
              "\n",
              "  .colab-df-spinner {\n",
              "    border: 2px solid var(--fill-color);\n",
              "    border-color: transparent;\n",
              "    border-bottom-color: var(--fill-color);\n",
              "    animation:\n",
              "      spin 1s steps(1) infinite;\n",
              "  }\n",
              "\n",
              "  @keyframes spin {\n",
              "    0% {\n",
              "      border-color: transparent;\n",
              "      border-bottom-color: var(--fill-color);\n",
              "      border-left-color: var(--fill-color);\n",
              "    }\n",
              "    20% {\n",
              "      border-color: transparent;\n",
              "      border-left-color: var(--fill-color);\n",
              "      border-top-color: var(--fill-color);\n",
              "    }\n",
              "    30% {\n",
              "      border-color: transparent;\n",
              "      border-left-color: var(--fill-color);\n",
              "      border-top-color: var(--fill-color);\n",
              "      border-right-color: var(--fill-color);\n",
              "    }\n",
              "    40% {\n",
              "      border-color: transparent;\n",
              "      border-right-color: var(--fill-color);\n",
              "      border-top-color: var(--fill-color);\n",
              "    }\n",
              "    60% {\n",
              "      border-color: transparent;\n",
              "      border-right-color: var(--fill-color);\n",
              "    }\n",
              "    80% {\n",
              "      border-color: transparent;\n",
              "      border-right-color: var(--fill-color);\n",
              "      border-bottom-color: var(--fill-color);\n",
              "    }\n",
              "    90% {\n",
              "      border-color: transparent;\n",
              "      border-bottom-color: var(--fill-color);\n",
              "    }\n",
              "  }\n",
              "</style>\n",
              "\n",
              "  <script>\n",
              "    async function quickchart(key) {\n",
              "      const quickchartButtonEl =\n",
              "        document.querySelector('#' + key + ' button');\n",
              "      quickchartButtonEl.disabled = true;  // To prevent multiple clicks.\n",
              "      quickchartButtonEl.classList.add('colab-df-spinner');\n",
              "      try {\n",
              "        const charts = await google.colab.kernel.invokeFunction(\n",
              "            'suggestCharts', [key], {});\n",
              "      } catch (error) {\n",
              "        console.error('Error during call to suggestCharts:', error);\n",
              "      }\n",
              "      quickchartButtonEl.classList.remove('colab-df-spinner');\n",
              "      quickchartButtonEl.classList.add('colab-df-quickchart-complete');\n",
              "    }\n",
              "    (() => {\n",
              "      let quickchartButtonEl =\n",
              "        document.querySelector('#df-7e833ee7-2a68-4c76-8eec-46792a48f4fa button');\n",
              "      quickchartButtonEl.style.display =\n",
              "        google.colab.kernel.accessAllowed ? 'block' : 'none';\n",
              "    })();\n",
              "  </script>\n",
              "</div>\n",
              "\n",
              "    </div>\n",
              "  </div>\n"
            ],
            "application/vnd.google.colaboratory.intrinsic+json": {
              "type": "dataframe",
              "summary": "{\n  \"name\": \"train_csv\",\n  \"rows\": 2,\n  \"fields\": [\n    {\n      \"column\": \"emergency_or_not\",\n      \"properties\": {\n        \"dtype\": \"number\",\n        \"std\": 0,\n        \"min\": 0,\n        \"max\": 1,\n        \"num_unique_values\": 2,\n        \"samples\": [\n          1,\n          0\n        ],\n        \"semantic_type\": \"\",\n        \"description\": \"\"\n      }\n    },\n    {\n      \"column\": \"count\",\n      \"properties\": {\n        \"dtype\": \"number\",\n        \"std\": 200,\n        \"min\": 681,\n        \"max\": 965,\n        \"num_unique_values\": 2,\n        \"samples\": [\n          681,\n          965\n        ],\n        \"semantic_type\": \"\",\n        \"description\": \"\"\n      }\n    }\n  ]\n}"
            }
          },
          "metadata": {},
          "execution_count": 11
        }
      ],
      "source": [
        "train_csv.emergency_or_not.value_counts().to_frame() # Not a perfectly balanced data set"
      ]
    },
    {
      "cell_type": "markdown",
      "metadata": {
        "id": "upV5WZJRr5DX"
      },
      "source": [
        "**Performing stratified splits**"
      ]
    },
    {
      "cell_type": "code",
      "execution_count": 12,
      "metadata": {
        "colab": {
          "base_uri": "https://localhost:8080/"
        },
        "id": "rHjoiL-Zr5DX",
        "outputId": "569dd2cc-9fe0-4f41-e4a0-ade6ada43f41"
      },
      "outputs": [
        {
          "output_type": "execute_result",
          "data": {
            "text/plain": [
              "((1316, 2), (330, 2))"
            ]
          },
          "metadata": {},
          "execution_count": 12
        }
      ],
      "source": [
        "from sklearn.model_selection import train_test_split\n",
        "\n",
        "train, val = train_test_split(train_csv, test_size= 0.2, stratify= train_csv['emergency_or_not'], random_state= 7)\n",
        "\n",
        "train.shape, val.shape"
      ]
    },
    {
      "cell_type": "markdown",
      "metadata": {
        "id": "3dhQ1Fsrr5DY"
      },
      "source": [
        "#### Creating train and val labelled datasets/directories"
      ]
    },
    {
      "cell_type": "markdown",
      "metadata": {
        "id": "DLpS9bVZr5DY"
      },
      "source": [
        "Sending the images to different sub-dirs based on the excel sheet provided."
      ]
    },
    {
      "cell_type": "code",
      "execution_count": 13,
      "metadata": {
        "colab": {
          "base_uri": "https://localhost:8080/"
        },
        "id": "c2oVVdpmr5DY",
        "outputId": "214118fb-6c75-44fa-daba-081d6bb32dc3"
      },
      "outputs": [
        {
          "output_type": "execute_result",
          "data": {
            "text/plain": [
              "(544, 772)"
            ]
          },
          "metadata": {},
          "execution_count": 13
        }
      ],
      "source": [
        "# Making list of all the images of type emergency and non_emergency in train_set.\n",
        "\n",
        "train_files = list(train_csv.image_names)\n",
        "\n",
        "train_emergency_vehicle = list(train.loc[train['emergency_or_not'] == 1, 'image_names'])\n",
        "train_not_emergency_vehicle = list(train.loc[train['emergency_or_not'] == 0, 'image_names'])\n",
        "\n",
        "len(train_emergency_vehicle), len(train_not_emergency_vehicle)"
      ]
    },
    {
      "cell_type": "code",
      "execution_count": 14,
      "metadata": {
        "colab": {
          "base_uri": "https://localhost:8080/"
        },
        "id": "0dbPIopjr5DY",
        "outputId": "48e6cef8-feca-40e0-8b7e-fc61aa216afe"
      },
      "outputs": [
        {
          "output_type": "execute_result",
          "data": {
            "text/plain": [
              "(137, 193)"
            ]
          },
          "metadata": {},
          "execution_count": 14
        }
      ],
      "source": [
        "# Making list of all the images of type emergency and non_emergency in train_set.\n",
        "\n",
        "val_files = list(train_csv.image_names)\n",
        "\n",
        "val_emergency_vehicle = list(val.loc[val['emergency_or_not'] == 1, 'image_names'])\n",
        "val_not_emergency_vehicle = list(val.loc[val['emergency_or_not'] == 0, 'image_names'])\n",
        "\n",
        "len(val_emergency_vehicle), len(val_not_emergency_vehicle)"
      ]
    },
    {
      "cell_type": "code",
      "execution_count": 15,
      "metadata": {
        "id": "m5KQ33pqr5DZ"
      },
      "outputs": [],
      "source": [
        "import shutil\n",
        "import os\n",
        "\n",
        "def copier(files, src, dst):\n",
        "    # Sending files to designated folder\n",
        "    for file in files:\n",
        "        file_path = src + rf'/{file}'\n",
        "        shutil.copy(file_path, dst)\n",
        "\n",
        "labelled_images_root_path_train = '/content/Qualcomm-DL-Hackathon/train/labelled_set_train'\n",
        "src = '/content/Qualcomm-DL-Hackathon/train/images'\n",
        "\n",
        "# Making sub-dirs for emergency and non-emergency labels.\n",
        "emergency = labelled_images_root_path_train + r'/emergency'\n",
        "non_emergency = labelled_images_root_path_train + r'/non_emergency'\n",
        "\n",
        "if os.path.isdir(labelled_images_root_path_train):\n",
        "    shutil.rmtree(labelled_images_root_path_train, ignore_errors=True)\n",
        "\n",
        "os.makedirs(emergency, exist_ok=True)\n",
        "os.makedirs(non_emergency, exist_ok=True)\n",
        "\n",
        "copier(train_emergency_vehicle, src, emergency)\n",
        "copier(train_not_emergency_vehicle, src, non_emergency)"
      ]
    },
    {
      "cell_type": "code",
      "execution_count": 16,
      "metadata": {
        "id": "IewhXGhyr5DZ"
      },
      "outputs": [],
      "source": [
        "labelled_images_root_path_val = '/content/Qualcomm-DL-Hackathon/train/labelled_set_val'\n",
        "src = '/content/Qualcomm-DL-Hackathon/train/images'\n",
        "\n",
        "# Making sub-dirs for emergency and non-emergency labels.\n",
        "emergency = labelled_images_root_path_val + '/emergency'\n",
        "non_emergency = labelled_images_root_path_val + '/non_emergency'\n",
        "\n",
        "if os.path.isdir(labelled_images_root_path_val):\n",
        "    shutil.rmtree(labelled_images_root_path_val, ignore_errors=True)\n",
        "\n",
        "os.makedirs(emergency, exist_ok=True)\n",
        "os.makedirs(non_emergency, exist_ok=True)\n",
        "\n",
        "copier(val_emergency_vehicle, src, emergency)\n",
        "copier(val_not_emergency_vehicle, src, non_emergency)"
      ]
    },
    {
      "cell_type": "code",
      "execution_count": 17,
      "metadata": {
        "colab": {
          "base_uri": "https://localhost:8080/"
        },
        "id": "Wb_Jba0sr5DZ",
        "outputId": "dc03b2eb-dc27-4204-8a6a-3a17e30c0508"
      },
      "outputs": [
        {
          "output_type": "execute_result",
          "data": {
            "text/plain": [
              "('/content/Qualcomm-DL-Hackathon/train/labelled_set_train',\n",
              " '/content/Qualcomm-DL-Hackathon/train/labelled_set_val')"
            ]
          },
          "metadata": {},
          "execution_count": 17
        }
      ],
      "source": [
        "labelled_images_root_path_train, labelled_images_root_path_val"
      ]
    },
    {
      "cell_type": "markdown",
      "metadata": {
        "id": "XQE7aL1Br5DZ"
      },
      "source": [
        "#### Loading and Transforming Train and Test Dataset\n",
        "\n",
        "Using the transformation with mean_substraction"
      ]
    },
    {
      "cell_type": "code",
      "execution_count": 18,
      "metadata": {
        "id": "065zzP1Lr5DZ"
      },
      "outputs": [],
      "source": [
        "# Loading train dataset\n",
        "train_dataset = datasets.ImageFolder(root= labelled_images_root_path_train, transform= train_transform)\n",
        "val_dataset = datasets.ImageFolder(root= labelled_images_root_path_val, transform= test_transform)"
      ]
    },
    {
      "cell_type": "code",
      "execution_count": 19,
      "metadata": {
        "colab": {
          "base_uri": "https://localhost:8080/"
        },
        "id": "T1hgSAvSr5Da",
        "outputId": "e9908752-8aac-4660-b0e4-3f91f012ff04"
      },
      "outputs": [
        {
          "output_type": "execute_result",
          "data": {
            "text/plain": [
              "Dataset ImageFolder\n",
              "    Number of datapoints: 1316\n",
              "    Root location: /content/Qualcomm-DL-Hackathon/train/labelled_set_train\n",
              "    StandardTransform\n",
              "Transform: Compose(\n",
              "               Resize(size=(256, 256), interpolation=bilinear, max_size=None, antialias=True)\n",
              "               RandomHorizontalFlip(p=0.5)\n",
              "               ColorJitter(brightness=(0.8, 1.2), contrast=(0.8, 1.2), saturation=(0.8, 1.2), hue=(-0.2, 0.2))\n",
              "               ToTensor()\n",
              "               Normalize(mean=[0.485, 0.456, 0.406], std=[0.229, 0.224, 0.225])\n",
              "           )"
            ]
          },
          "metadata": {},
          "execution_count": 19
        }
      ],
      "source": [
        "train_dataset"
      ]
    },
    {
      "cell_type": "code",
      "execution_count": 20,
      "metadata": {
        "colab": {
          "base_uri": "https://localhost:8080/"
        },
        "id": "aHMVrm5Pr5Da",
        "outputId": "58c76ac9-fc45-44f6-ffde-1baf41cbeb1f"
      },
      "outputs": [
        {
          "output_type": "execute_result",
          "data": {
            "text/plain": [
              "Dataset ImageFolder\n",
              "    Number of datapoints: 330\n",
              "    Root location: /content/Qualcomm-DL-Hackathon/train/labelled_set_val\n",
              "    StandardTransform\n",
              "Transform: Compose(\n",
              "               Resize(size=(256, 256), interpolation=bilinear, max_size=None, antialias=True)\n",
              "               ToTensor()\n",
              "               Normalize(mean=[0.485, 0.456, 0.406], std=[0.229, 0.224, 0.225])\n",
              "           )"
            ]
          },
          "metadata": {},
          "execution_count": 20
        }
      ],
      "source": [
        "val_dataset"
      ]
    },
    {
      "cell_type": "markdown",
      "metadata": {
        "jp-MarkdownHeadingCollapsed": true,
        "id": "E86ylx8Xr5Db"
      },
      "source": [
        "## Building and Training Model"
      ]
    },
    {
      "cell_type": "markdown",
      "metadata": {
        "id": "8N4tlBtOr5Da"
      },
      "source": [
        "**Making data loaders for train and val datasets**"
      ]
    },
    {
      "cell_type": "code",
      "execution_count": 21,
      "metadata": {
        "id": "1JceMFjpr5Da"
      },
      "outputs": [],
      "source": [
        "# Creating data loader to help load files in batch from dataset to help reduce memory useage.\n",
        "\n",
        "batchsize = 32\n",
        "\n",
        "train_loader = DataLoader(train_dataset, batch_size= batchsize, shuffle=True)\n",
        "val_loader = DataLoader(val_dataset, batch_size= batchsize, shuffle=False)"
      ]
    },
    {
      "cell_type": "markdown",
      "source": [
        "**Creating Early Stopping Class**"
      ],
      "metadata": {
        "id": "lllH-RBLxK61"
      }
    },
    {
      "cell_type": "code",
      "execution_count": 22,
      "metadata": {
        "id": "fPbVkgfxr5Db"
      },
      "outputs": [],
      "source": [
        "# Creating Early Stopping Class to stop the epocs if for 3 continuous runs validation loss is increasing. This avoids overfitting\n",
        "\n",
        "class EarlyStopping:\n",
        "    def __init__(self, patience=3, min_delta=0):\n",
        "        self.patience = patience\n",
        "        self.min_delta = min_delta\n",
        "        self.counter = 0\n",
        "        self.best_loss = None\n",
        "        self.early_stop = False\n",
        "\n",
        "    def __call__(self, val_loss):\n",
        "        if self.best_loss is None:\n",
        "            self.best_loss = val_loss\n",
        "        elif val_loss > self.best_loss - self.min_delta:\n",
        "            self.counter += 1\n",
        "            if self.counter >= self.patience:\n",
        "                self.early_stop = True\n",
        "        else:\n",
        "            self.best_loss = val_loss\n",
        "            self.counter = 0"
      ]
    },
    {
      "cell_type": "markdown",
      "source": [
        "**Defiing a function to reset weights in models**"
      ],
      "metadata": {
        "id": "WSzJRkKRxP8b"
      }
    },
    {
      "cell_type": "code",
      "execution_count": 23,
      "metadata": {
        "id": "9_es3_ASr5Db"
      },
      "outputs": [],
      "source": [
        "def reset_weights(m):\n",
        "    if hasattr(m, 'reset_parameters'):\n",
        "        m.reset_parameters()"
      ]
    },
    {
      "cell_type": "code",
      "execution_count": 24,
      "metadata": {
        "id": "sx7b1-1rlo_o"
      },
      "outputs": [],
      "source": [
        "import torch\n",
        "import torch.nn as nn\n",
        "import torch.optim as optim\n",
        "from torchvision import datasets, transforms\n",
        "from torch.utils.data import DataLoader\n",
        "import torchvision.models as models\n"
      ]
    },
    {
      "cell_type": "markdown",
      "source": [
        "### **Model 1:** Random Model created from scratch."
      ],
      "metadata": {
        "id": "HC0PPCftxwE3"
      }
    },
    {
      "cell_type": "markdown",
      "source": [
        "Defining Model"
      ],
      "metadata": {
        "id": "0o8Zs9lfyQ6E"
      }
    },
    {
      "cell_type": "code",
      "source": [
        "model_1 = nn.Sequential(\n",
        "    nn.Conv2d(3, 64, kernel_size=3, stride=1, padding=1),  # Conv layer 1\n",
        "    nn.ReLU(),\n",
        "    nn.MaxPool2d(kernel_size=2, stride=2),\n",
        "\n",
        "    nn.Conv2d(64, 128, kernel_size=3, stride=1, padding=1),  # Conv layer 1\n",
        "    nn.ReLU(),\n",
        "    nn.MaxPool2d(kernel_size=2, stride=2),                 # Pooling\n",
        "\n",
        "    nn.Conv2d(128, 256, kernel_size=3, stride=1, padding=1),  # Conv layer 3\n",
        "    nn.ReLU(),\n",
        "    nn.MaxPool2d(kernel_size=2, stride=2),\n",
        "\n",
        "    nn.Conv2d(256, 512, kernel_size=3, stride=1, padding=1),  # Conv layer 3\n",
        "    nn.ReLU(),\n",
        "    nn.MaxPool2d(kernel_size=2, stride=2),\n",
        "\n",
        "    nn.Flatten(),  # Flatten the 3D tensor into a 1D vector\n",
        "\n",
        "    nn.Linear(512 * 16 * 16, 512),  # Fully connected layer\n",
        "    nn.ReLU(),\n",
        "    nn.Dropout(0.3),\n",
        "\n",
        "    nn.Linear(512, 512),  # Fully connected layer\n",
        "    nn.ReLU(),\n",
        "    nn.Dropout(0.3),\n",
        "\n",
        "    nn.Linear(512, 2),          # Output layer for binary classification\n",
        "    nn.Softmax()                # Applying softmax to classify it as class emergency or not-emergency\n",
        ")\n",
        "\n",
        "# Loss function and optimizer\n",
        "criterion = nn.CrossEntropyLoss()  # Binary Cross Entropy Loss with logits\n",
        "optimizer = optim.Adam(model_1.parameters(), lr=0.01)\n",
        "\n",
        "print(model_1.parameters)"
      ],
      "metadata": {
        "colab": {
          "base_uri": "https://localhost:8080/"
        },
        "id": "J6tRmN3txvPX",
        "outputId": "8f1c353b-1c35-47c5-c7e0-1c6ae8497dce"
      },
      "execution_count": 25,
      "outputs": [
        {
          "output_type": "stream",
          "name": "stdout",
          "text": [
            "<bound method Module.parameters of Sequential(\n",
            "  (0): Conv2d(3, 64, kernel_size=(3, 3), stride=(1, 1), padding=(1, 1))\n",
            "  (1): ReLU()\n",
            "  (2): MaxPool2d(kernel_size=2, stride=2, padding=0, dilation=1, ceil_mode=False)\n",
            "  (3): Conv2d(64, 128, kernel_size=(3, 3), stride=(1, 1), padding=(1, 1))\n",
            "  (4): ReLU()\n",
            "  (5): MaxPool2d(kernel_size=2, stride=2, padding=0, dilation=1, ceil_mode=False)\n",
            "  (6): Conv2d(128, 256, kernel_size=(3, 3), stride=(1, 1), padding=(1, 1))\n",
            "  (7): ReLU()\n",
            "  (8): MaxPool2d(kernel_size=2, stride=2, padding=0, dilation=1, ceil_mode=False)\n",
            "  (9): Conv2d(256, 512, kernel_size=(3, 3), stride=(1, 1), padding=(1, 1))\n",
            "  (10): ReLU()\n",
            "  (11): MaxPool2d(kernel_size=2, stride=2, padding=0, dilation=1, ceil_mode=False)\n",
            "  (12): Flatten(start_dim=1, end_dim=-1)\n",
            "  (13): Linear(in_features=131072, out_features=512, bias=True)\n",
            "  (14): ReLU()\n",
            "  (15): Dropout(p=0.3, inplace=False)\n",
            "  (16): Linear(in_features=512, out_features=512, bias=True)\n",
            "  (17): ReLU()\n",
            "  (18): Dropout(p=0.3, inplace=False)\n",
            "  (19): Linear(in_features=512, out_features=2, bias=True)\n",
            "  (20): Softmax(dim=None)\n",
            ")>\n"
          ]
        }
      ]
    },
    {
      "cell_type": "markdown",
      "source": [
        "Training Model"
      ],
      "metadata": {
        "id": "6FaS20fe2F8p"
      }
    },
    {
      "cell_type": "code",
      "source": [
        "epochs = 15\n",
        "early_stopping = EarlyStopping(patience= 5, min_delta= 0)\n",
        "model_1.apply(reset_weights)\n",
        "\n",
        "for epoch in range(epochs):\n",
        "    model_1.train()\n",
        "    running_loss = 0.0\n",
        "    total = 0\n",
        "    correct = 0\n",
        "\n",
        "    for images, labels in train_loader:\n",
        "        # Forward pass\n",
        "        outputs = model_1(images)\n",
        "\n",
        "        # Compute loss\n",
        "        loss = criterion(outputs, labels)\n",
        "\n",
        "        # Backward pass and optimization\n",
        "        optimizer.zero_grad()\n",
        "        loss.backward()\n",
        "        optimizer.step()\n",
        "\n",
        "        # Track the loss and accuracy\n",
        "        running_loss += loss.item()\n",
        "        prob, predicted = torch.max(outputs, 1)\n",
        "        total += labels.size(0)\n",
        "        correct += (predicted == labels).sum().item()\n",
        "\n",
        "    epoch_loss = running_loss / len(train_loader)\n",
        "    epoch_accuracy = 100 * correct / total\n",
        "    print(f'Epoch [{epoch+1}/{epochs}], Loss: {epoch_loss:.4f}, Accuracy: {epoch_accuracy:.2f}%')\n",
        "\n",
        "    # Evaluate the model on the validation set for early stopping.\n",
        "\n",
        "    model_1.eval()  # Set the model to evaluation mode\n",
        "    val_correct = 0\n",
        "    val_total = 0\n",
        "    val_loss = 0\n",
        "    with torch.no_grad():\n",
        "        for inputs, labels in val_loader:\n",
        "            #inputs, labels = inputs.to(device), labels.to(device)\n",
        "            outputs = model_1(inputs)\n",
        "            _, predicted = torch.max(outputs, 1)\n",
        "            val_total += labels.size(0)\n",
        "            val_correct += (predicted == labels).sum().item()\n",
        "            val_loss += criterion(outputs, labels).item()\n",
        "\n",
        "    val_accuracy = 100 * val_correct / val_total\n",
        "    val_loss /= len(val_loader)\n",
        "    print(f'Validation Accuracy: {val_accuracy:.2f}%, Validation Loss: {val_loss:.2f}')\n",
        "\n",
        "    early_stopping(val_loss)\n",
        "    if early_stopping.early_stop:\n",
        "        print(\"Early stopping!!!\")\n",
        "        break"
      ],
      "metadata": {
        "colab": {
          "base_uri": "https://localhost:8080/",
          "height": 356
        },
        "id": "f-uLTg_11N7H",
        "outputId": "d2fafe12-ba04-43a1-d7f9-ea56c9199435"
      },
      "execution_count": 26,
      "outputs": [
        {
          "output_type": "error",
          "ename": "KeyboardInterrupt",
          "evalue": "",
          "traceback": [
            "\u001b[0;31m---------------------------------------------------------------------------\u001b[0m",
            "\u001b[0;31mKeyboardInterrupt\u001b[0m                         Traceback (most recent call last)",
            "\u001b[0;32m<ipython-input-26-3740202c4a21>\u001b[0m in \u001b[0;36m<cell line: 5>\u001b[0;34m()\u001b[0m\n\u001b[1;32m      9\u001b[0m     \u001b[0mcorrect\u001b[0m \u001b[0;34m=\u001b[0m \u001b[0;36m0\u001b[0m\u001b[0;34m\u001b[0m\u001b[0;34m\u001b[0m\u001b[0m\n\u001b[1;32m     10\u001b[0m \u001b[0;34m\u001b[0m\u001b[0m\n\u001b[0;32m---> 11\u001b[0;31m     \u001b[0;32mfor\u001b[0m \u001b[0mimages\u001b[0m\u001b[0;34m,\u001b[0m \u001b[0mlabels\u001b[0m \u001b[0;32min\u001b[0m \u001b[0mtrain_loader\u001b[0m\u001b[0;34m:\u001b[0m\u001b[0;34m\u001b[0m\u001b[0;34m\u001b[0m\u001b[0m\n\u001b[0m\u001b[1;32m     12\u001b[0m         \u001b[0;31m# Forward pass\u001b[0m\u001b[0;34m\u001b[0m\u001b[0;34m\u001b[0m\u001b[0m\n\u001b[1;32m     13\u001b[0m         \u001b[0moutputs\u001b[0m \u001b[0;34m=\u001b[0m \u001b[0mmodel_1\u001b[0m\u001b[0;34m(\u001b[0m\u001b[0mimages\u001b[0m\u001b[0;34m)\u001b[0m\u001b[0;34m\u001b[0m\u001b[0;34m\u001b[0m\u001b[0m\n",
            "\u001b[0;32m/usr/local/lib/python3.10/dist-packages/torch/utils/data/dataloader.py\u001b[0m in \u001b[0;36m__next__\u001b[0;34m(self)\u001b[0m\n\u001b[1;32m    699\u001b[0m                 \u001b[0;31m# TODO(https://github.com/pytorch/pytorch/issues/76750)\u001b[0m\u001b[0;34m\u001b[0m\u001b[0;34m\u001b[0m\u001b[0m\n\u001b[1;32m    700\u001b[0m                 \u001b[0mself\u001b[0m\u001b[0;34m.\u001b[0m\u001b[0m_reset\u001b[0m\u001b[0;34m(\u001b[0m\u001b[0;34m)\u001b[0m  \u001b[0;31m# type: ignore[call-arg]\u001b[0m\u001b[0;34m\u001b[0m\u001b[0;34m\u001b[0m\u001b[0m\n\u001b[0;32m--> 701\u001b[0;31m             \u001b[0mdata\u001b[0m \u001b[0;34m=\u001b[0m \u001b[0mself\u001b[0m\u001b[0;34m.\u001b[0m\u001b[0m_next_data\u001b[0m\u001b[0;34m(\u001b[0m\u001b[0;34m)\u001b[0m\u001b[0;34m\u001b[0m\u001b[0;34m\u001b[0m\u001b[0m\n\u001b[0m\u001b[1;32m    702\u001b[0m             \u001b[0mself\u001b[0m\u001b[0;34m.\u001b[0m\u001b[0m_num_yielded\u001b[0m \u001b[0;34m+=\u001b[0m \u001b[0;36m1\u001b[0m\u001b[0;34m\u001b[0m\u001b[0;34m\u001b[0m\u001b[0m\n\u001b[1;32m    703\u001b[0m             if (\n",
            "\u001b[0;32m/usr/local/lib/python3.10/dist-packages/torch/utils/data/dataloader.py\u001b[0m in \u001b[0;36m_next_data\u001b[0;34m(self)\u001b[0m\n\u001b[1;32m    755\u001b[0m     \u001b[0;32mdef\u001b[0m \u001b[0m_next_data\u001b[0m\u001b[0;34m(\u001b[0m\u001b[0mself\u001b[0m\u001b[0;34m)\u001b[0m\u001b[0;34m:\u001b[0m\u001b[0;34m\u001b[0m\u001b[0;34m\u001b[0m\u001b[0m\n\u001b[1;32m    756\u001b[0m         \u001b[0mindex\u001b[0m \u001b[0;34m=\u001b[0m \u001b[0mself\u001b[0m\u001b[0;34m.\u001b[0m\u001b[0m_next_index\u001b[0m\u001b[0;34m(\u001b[0m\u001b[0;34m)\u001b[0m  \u001b[0;31m# may raise StopIteration\u001b[0m\u001b[0;34m\u001b[0m\u001b[0;34m\u001b[0m\u001b[0m\n\u001b[0;32m--> 757\u001b[0;31m         \u001b[0mdata\u001b[0m \u001b[0;34m=\u001b[0m \u001b[0mself\u001b[0m\u001b[0;34m.\u001b[0m\u001b[0m_dataset_fetcher\u001b[0m\u001b[0;34m.\u001b[0m\u001b[0mfetch\u001b[0m\u001b[0;34m(\u001b[0m\u001b[0mindex\u001b[0m\u001b[0;34m)\u001b[0m  \u001b[0;31m# may raise StopIteration\u001b[0m\u001b[0;34m\u001b[0m\u001b[0;34m\u001b[0m\u001b[0m\n\u001b[0m\u001b[1;32m    758\u001b[0m         \u001b[0;32mif\u001b[0m \u001b[0mself\u001b[0m\u001b[0;34m.\u001b[0m\u001b[0m_pin_memory\u001b[0m\u001b[0;34m:\u001b[0m\u001b[0;34m\u001b[0m\u001b[0;34m\u001b[0m\u001b[0m\n\u001b[1;32m    759\u001b[0m             \u001b[0mdata\u001b[0m \u001b[0;34m=\u001b[0m \u001b[0m_utils\u001b[0m\u001b[0;34m.\u001b[0m\u001b[0mpin_memory\u001b[0m\u001b[0;34m.\u001b[0m\u001b[0mpin_memory\u001b[0m\u001b[0;34m(\u001b[0m\u001b[0mdata\u001b[0m\u001b[0;34m,\u001b[0m \u001b[0mself\u001b[0m\u001b[0;34m.\u001b[0m\u001b[0m_pin_memory_device\u001b[0m\u001b[0;34m)\u001b[0m\u001b[0;34m\u001b[0m\u001b[0;34m\u001b[0m\u001b[0m\n",
            "\u001b[0;32m/usr/local/lib/python3.10/dist-packages/torch/utils/data/_utils/fetch.py\u001b[0m in \u001b[0;36mfetch\u001b[0;34m(self, possibly_batched_index)\u001b[0m\n\u001b[1;32m     50\u001b[0m                 \u001b[0mdata\u001b[0m \u001b[0;34m=\u001b[0m \u001b[0mself\u001b[0m\u001b[0;34m.\u001b[0m\u001b[0mdataset\u001b[0m\u001b[0;34m.\u001b[0m\u001b[0m__getitems__\u001b[0m\u001b[0;34m(\u001b[0m\u001b[0mpossibly_batched_index\u001b[0m\u001b[0;34m)\u001b[0m\u001b[0;34m\u001b[0m\u001b[0;34m\u001b[0m\u001b[0m\n\u001b[1;32m     51\u001b[0m             \u001b[0;32melse\u001b[0m\u001b[0;34m:\u001b[0m\u001b[0;34m\u001b[0m\u001b[0;34m\u001b[0m\u001b[0m\n\u001b[0;32m---> 52\u001b[0;31m                 \u001b[0mdata\u001b[0m \u001b[0;34m=\u001b[0m \u001b[0;34m[\u001b[0m\u001b[0mself\u001b[0m\u001b[0;34m.\u001b[0m\u001b[0mdataset\u001b[0m\u001b[0;34m[\u001b[0m\u001b[0midx\u001b[0m\u001b[0;34m]\u001b[0m \u001b[0;32mfor\u001b[0m \u001b[0midx\u001b[0m \u001b[0;32min\u001b[0m \u001b[0mpossibly_batched_index\u001b[0m\u001b[0;34m]\u001b[0m\u001b[0;34m\u001b[0m\u001b[0;34m\u001b[0m\u001b[0m\n\u001b[0m\u001b[1;32m     53\u001b[0m         \u001b[0;32melse\u001b[0m\u001b[0;34m:\u001b[0m\u001b[0;34m\u001b[0m\u001b[0;34m\u001b[0m\u001b[0m\n\u001b[1;32m     54\u001b[0m             \u001b[0mdata\u001b[0m \u001b[0;34m=\u001b[0m \u001b[0mself\u001b[0m\u001b[0;34m.\u001b[0m\u001b[0mdataset\u001b[0m\u001b[0;34m[\u001b[0m\u001b[0mpossibly_batched_index\u001b[0m\u001b[0;34m]\u001b[0m\u001b[0;34m\u001b[0m\u001b[0;34m\u001b[0m\u001b[0m\n",
            "\u001b[0;32m/usr/local/lib/python3.10/dist-packages/torch/utils/data/_utils/fetch.py\u001b[0m in \u001b[0;36m<listcomp>\u001b[0;34m(.0)\u001b[0m\n\u001b[1;32m     50\u001b[0m                 \u001b[0mdata\u001b[0m \u001b[0;34m=\u001b[0m \u001b[0mself\u001b[0m\u001b[0;34m.\u001b[0m\u001b[0mdataset\u001b[0m\u001b[0;34m.\u001b[0m\u001b[0m__getitems__\u001b[0m\u001b[0;34m(\u001b[0m\u001b[0mpossibly_batched_index\u001b[0m\u001b[0;34m)\u001b[0m\u001b[0;34m\u001b[0m\u001b[0;34m\u001b[0m\u001b[0m\n\u001b[1;32m     51\u001b[0m             \u001b[0;32melse\u001b[0m\u001b[0;34m:\u001b[0m\u001b[0;34m\u001b[0m\u001b[0;34m\u001b[0m\u001b[0m\n\u001b[0;32m---> 52\u001b[0;31m                 \u001b[0mdata\u001b[0m \u001b[0;34m=\u001b[0m \u001b[0;34m[\u001b[0m\u001b[0mself\u001b[0m\u001b[0;34m.\u001b[0m\u001b[0mdataset\u001b[0m\u001b[0;34m[\u001b[0m\u001b[0midx\u001b[0m\u001b[0;34m]\u001b[0m \u001b[0;32mfor\u001b[0m \u001b[0midx\u001b[0m \u001b[0;32min\u001b[0m \u001b[0mpossibly_batched_index\u001b[0m\u001b[0;34m]\u001b[0m\u001b[0;34m\u001b[0m\u001b[0;34m\u001b[0m\u001b[0m\n\u001b[0m\u001b[1;32m     53\u001b[0m         \u001b[0;32melse\u001b[0m\u001b[0;34m:\u001b[0m\u001b[0;34m\u001b[0m\u001b[0;34m\u001b[0m\u001b[0m\n\u001b[1;32m     54\u001b[0m             \u001b[0mdata\u001b[0m \u001b[0;34m=\u001b[0m \u001b[0mself\u001b[0m\u001b[0;34m.\u001b[0m\u001b[0mdataset\u001b[0m\u001b[0;34m[\u001b[0m\u001b[0mpossibly_batched_index\u001b[0m\u001b[0;34m]\u001b[0m\u001b[0;34m\u001b[0m\u001b[0;34m\u001b[0m\u001b[0m\n",
            "\u001b[0;32m/usr/local/lib/python3.10/dist-packages/torchvision/datasets/folder.py\u001b[0m in \u001b[0;36m__getitem__\u001b[0;34m(self, index)\u001b[0m\n\u001b[1;32m    245\u001b[0m         \u001b[0msample\u001b[0m \u001b[0;34m=\u001b[0m \u001b[0mself\u001b[0m\u001b[0;34m.\u001b[0m\u001b[0mloader\u001b[0m\u001b[0;34m(\u001b[0m\u001b[0mpath\u001b[0m\u001b[0;34m)\u001b[0m\u001b[0;34m\u001b[0m\u001b[0;34m\u001b[0m\u001b[0m\n\u001b[1;32m    246\u001b[0m         \u001b[0;32mif\u001b[0m \u001b[0mself\u001b[0m\u001b[0;34m.\u001b[0m\u001b[0mtransform\u001b[0m \u001b[0;32mis\u001b[0m \u001b[0;32mnot\u001b[0m \u001b[0;32mNone\u001b[0m\u001b[0;34m:\u001b[0m\u001b[0;34m\u001b[0m\u001b[0;34m\u001b[0m\u001b[0m\n\u001b[0;32m--> 247\u001b[0;31m             \u001b[0msample\u001b[0m \u001b[0;34m=\u001b[0m \u001b[0mself\u001b[0m\u001b[0;34m.\u001b[0m\u001b[0mtransform\u001b[0m\u001b[0;34m(\u001b[0m\u001b[0msample\u001b[0m\u001b[0;34m)\u001b[0m\u001b[0;34m\u001b[0m\u001b[0;34m\u001b[0m\u001b[0m\n\u001b[0m\u001b[1;32m    248\u001b[0m         \u001b[0;32mif\u001b[0m \u001b[0mself\u001b[0m\u001b[0;34m.\u001b[0m\u001b[0mtarget_transform\u001b[0m \u001b[0;32mis\u001b[0m \u001b[0;32mnot\u001b[0m \u001b[0;32mNone\u001b[0m\u001b[0;34m:\u001b[0m\u001b[0;34m\u001b[0m\u001b[0;34m\u001b[0m\u001b[0m\n\u001b[1;32m    249\u001b[0m             \u001b[0mtarget\u001b[0m \u001b[0;34m=\u001b[0m \u001b[0mself\u001b[0m\u001b[0;34m.\u001b[0m\u001b[0mtarget_transform\u001b[0m\u001b[0;34m(\u001b[0m\u001b[0mtarget\u001b[0m\u001b[0;34m)\u001b[0m\u001b[0;34m\u001b[0m\u001b[0;34m\u001b[0m\u001b[0m\n",
            "\u001b[0;32m/usr/local/lib/python3.10/dist-packages/torchvision/transforms/transforms.py\u001b[0m in \u001b[0;36m__call__\u001b[0;34m(self, img)\u001b[0m\n\u001b[1;32m     93\u001b[0m     \u001b[0;32mdef\u001b[0m \u001b[0m__call__\u001b[0m\u001b[0;34m(\u001b[0m\u001b[0mself\u001b[0m\u001b[0;34m,\u001b[0m \u001b[0mimg\u001b[0m\u001b[0;34m)\u001b[0m\u001b[0;34m:\u001b[0m\u001b[0;34m\u001b[0m\u001b[0;34m\u001b[0m\u001b[0m\n\u001b[1;32m     94\u001b[0m         \u001b[0;32mfor\u001b[0m \u001b[0mt\u001b[0m \u001b[0;32min\u001b[0m \u001b[0mself\u001b[0m\u001b[0;34m.\u001b[0m\u001b[0mtransforms\u001b[0m\u001b[0;34m:\u001b[0m\u001b[0;34m\u001b[0m\u001b[0;34m\u001b[0m\u001b[0m\n\u001b[0;32m---> 95\u001b[0;31m             \u001b[0mimg\u001b[0m \u001b[0;34m=\u001b[0m \u001b[0mt\u001b[0m\u001b[0;34m(\u001b[0m\u001b[0mimg\u001b[0m\u001b[0;34m)\u001b[0m\u001b[0;34m\u001b[0m\u001b[0;34m\u001b[0m\u001b[0m\n\u001b[0m\u001b[1;32m     96\u001b[0m         \u001b[0;32mreturn\u001b[0m \u001b[0mimg\u001b[0m\u001b[0;34m\u001b[0m\u001b[0;34m\u001b[0m\u001b[0m\n\u001b[1;32m     97\u001b[0m \u001b[0;34m\u001b[0m\u001b[0m\n",
            "\u001b[0;32m/usr/local/lib/python3.10/dist-packages/torch/nn/modules/module.py\u001b[0m in \u001b[0;36m_wrapped_call_impl\u001b[0;34m(self, *args, **kwargs)\u001b[0m\n\u001b[1;32m   1734\u001b[0m             \u001b[0;32mreturn\u001b[0m \u001b[0mself\u001b[0m\u001b[0;34m.\u001b[0m\u001b[0m_compiled_call_impl\u001b[0m\u001b[0;34m(\u001b[0m\u001b[0;34m*\u001b[0m\u001b[0margs\u001b[0m\u001b[0;34m,\u001b[0m \u001b[0;34m**\u001b[0m\u001b[0mkwargs\u001b[0m\u001b[0;34m)\u001b[0m  \u001b[0;31m# type: ignore[misc]\u001b[0m\u001b[0;34m\u001b[0m\u001b[0;34m\u001b[0m\u001b[0m\n\u001b[1;32m   1735\u001b[0m         \u001b[0;32melse\u001b[0m\u001b[0;34m:\u001b[0m\u001b[0;34m\u001b[0m\u001b[0;34m\u001b[0m\u001b[0m\n\u001b[0;32m-> 1736\u001b[0;31m             \u001b[0;32mreturn\u001b[0m \u001b[0mself\u001b[0m\u001b[0;34m.\u001b[0m\u001b[0m_call_impl\u001b[0m\u001b[0;34m(\u001b[0m\u001b[0;34m*\u001b[0m\u001b[0margs\u001b[0m\u001b[0;34m,\u001b[0m \u001b[0;34m**\u001b[0m\u001b[0mkwargs\u001b[0m\u001b[0;34m)\u001b[0m\u001b[0;34m\u001b[0m\u001b[0;34m\u001b[0m\u001b[0m\n\u001b[0m\u001b[1;32m   1737\u001b[0m \u001b[0;34m\u001b[0m\u001b[0m\n\u001b[1;32m   1738\u001b[0m     \u001b[0;31m# torchrec tests the code consistency with the following code\u001b[0m\u001b[0;34m\u001b[0m\u001b[0;34m\u001b[0m\u001b[0m\n",
            "\u001b[0;32m/usr/local/lib/python3.10/dist-packages/torch/nn/modules/module.py\u001b[0m in \u001b[0;36m_call_impl\u001b[0;34m(self, *args, **kwargs)\u001b[0m\n\u001b[1;32m   1745\u001b[0m                 \u001b[0;32mor\u001b[0m \u001b[0m_global_backward_pre_hooks\u001b[0m \u001b[0;32mor\u001b[0m \u001b[0m_global_backward_hooks\u001b[0m\u001b[0;34m\u001b[0m\u001b[0;34m\u001b[0m\u001b[0m\n\u001b[1;32m   1746\u001b[0m                 or _global_forward_hooks or _global_forward_pre_hooks):\n\u001b[0;32m-> 1747\u001b[0;31m             \u001b[0;32mreturn\u001b[0m \u001b[0mforward_call\u001b[0m\u001b[0;34m(\u001b[0m\u001b[0;34m*\u001b[0m\u001b[0margs\u001b[0m\u001b[0;34m,\u001b[0m \u001b[0;34m**\u001b[0m\u001b[0mkwargs\u001b[0m\u001b[0;34m)\u001b[0m\u001b[0;34m\u001b[0m\u001b[0;34m\u001b[0m\u001b[0m\n\u001b[0m\u001b[1;32m   1748\u001b[0m \u001b[0;34m\u001b[0m\u001b[0m\n\u001b[1;32m   1749\u001b[0m         \u001b[0mresult\u001b[0m \u001b[0;34m=\u001b[0m \u001b[0;32mNone\u001b[0m\u001b[0;34m\u001b[0m\u001b[0;34m\u001b[0m\u001b[0m\n",
            "\u001b[0;32m/usr/local/lib/python3.10/dist-packages/torchvision/transforms/transforms.py\u001b[0m in \u001b[0;36mforward\u001b[0;34m(self, img)\u001b[0m\n\u001b[1;32m   1278\u001b[0m                 \u001b[0mimg\u001b[0m \u001b[0;34m=\u001b[0m \u001b[0mF\u001b[0m\u001b[0;34m.\u001b[0m\u001b[0madjust_saturation\u001b[0m\u001b[0;34m(\u001b[0m\u001b[0mimg\u001b[0m\u001b[0;34m,\u001b[0m \u001b[0msaturation_factor\u001b[0m\u001b[0;34m)\u001b[0m\u001b[0;34m\u001b[0m\u001b[0;34m\u001b[0m\u001b[0m\n\u001b[1;32m   1279\u001b[0m             \u001b[0;32melif\u001b[0m \u001b[0mfn_id\u001b[0m \u001b[0;34m==\u001b[0m \u001b[0;36m3\u001b[0m \u001b[0;32mand\u001b[0m \u001b[0mhue_factor\u001b[0m \u001b[0;32mis\u001b[0m \u001b[0;32mnot\u001b[0m \u001b[0;32mNone\u001b[0m\u001b[0;34m:\u001b[0m\u001b[0;34m\u001b[0m\u001b[0;34m\u001b[0m\u001b[0m\n\u001b[0;32m-> 1280\u001b[0;31m                 \u001b[0mimg\u001b[0m \u001b[0;34m=\u001b[0m \u001b[0mF\u001b[0m\u001b[0;34m.\u001b[0m\u001b[0madjust_hue\u001b[0m\u001b[0;34m(\u001b[0m\u001b[0mimg\u001b[0m\u001b[0;34m,\u001b[0m \u001b[0mhue_factor\u001b[0m\u001b[0;34m)\u001b[0m\u001b[0;34m\u001b[0m\u001b[0;34m\u001b[0m\u001b[0m\n\u001b[0m\u001b[1;32m   1281\u001b[0m \u001b[0;34m\u001b[0m\u001b[0m\n\u001b[1;32m   1282\u001b[0m         \u001b[0;32mreturn\u001b[0m \u001b[0mimg\u001b[0m\u001b[0;34m\u001b[0m\u001b[0;34m\u001b[0m\u001b[0m\n",
            "\u001b[0;32m/usr/local/lib/python3.10/dist-packages/torchvision/transforms/functional.py\u001b[0m in \u001b[0;36madjust_hue\u001b[0;34m(img, hue_factor)\u001b[0m\n\u001b[1;32m    966\u001b[0m         \u001b[0m_log_api_usage_once\u001b[0m\u001b[0;34m(\u001b[0m\u001b[0madjust_hue\u001b[0m\u001b[0;34m)\u001b[0m\u001b[0;34m\u001b[0m\u001b[0;34m\u001b[0m\u001b[0m\n\u001b[1;32m    967\u001b[0m     \u001b[0;32mif\u001b[0m \u001b[0;32mnot\u001b[0m \u001b[0misinstance\u001b[0m\u001b[0;34m(\u001b[0m\u001b[0mimg\u001b[0m\u001b[0;34m,\u001b[0m \u001b[0mtorch\u001b[0m\u001b[0;34m.\u001b[0m\u001b[0mTensor\u001b[0m\u001b[0;34m)\u001b[0m\u001b[0;34m:\u001b[0m\u001b[0;34m\u001b[0m\u001b[0;34m\u001b[0m\u001b[0m\n\u001b[0;32m--> 968\u001b[0;31m         \u001b[0;32mreturn\u001b[0m \u001b[0mF_pil\u001b[0m\u001b[0;34m.\u001b[0m\u001b[0madjust_hue\u001b[0m\u001b[0;34m(\u001b[0m\u001b[0mimg\u001b[0m\u001b[0;34m,\u001b[0m \u001b[0mhue_factor\u001b[0m\u001b[0;34m)\u001b[0m\u001b[0;34m\u001b[0m\u001b[0;34m\u001b[0m\u001b[0m\n\u001b[0m\u001b[1;32m    969\u001b[0m \u001b[0;34m\u001b[0m\u001b[0m\n\u001b[1;32m    970\u001b[0m     \u001b[0;32mreturn\u001b[0m \u001b[0mF_t\u001b[0m\u001b[0;34m.\u001b[0m\u001b[0madjust_hue\u001b[0m\u001b[0;34m(\u001b[0m\u001b[0mimg\u001b[0m\u001b[0;34m,\u001b[0m \u001b[0mhue_factor\u001b[0m\u001b[0;34m)\u001b[0m\u001b[0;34m\u001b[0m\u001b[0;34m\u001b[0m\u001b[0m\n",
            "\u001b[0;32m/usr/local/lib/python3.10/dist-packages/torchvision/transforms/_functional_pil.py\u001b[0m in \u001b[0;36madjust_hue\u001b[0;34m(img, hue_factor)\u001b[0m\n\u001b[1;32m    107\u001b[0m         \u001b[0;32mreturn\u001b[0m \u001b[0mimg\u001b[0m\u001b[0;34m\u001b[0m\u001b[0;34m\u001b[0m\u001b[0m\n\u001b[1;32m    108\u001b[0m \u001b[0;34m\u001b[0m\u001b[0m\n\u001b[0;32m--> 109\u001b[0;31m     \u001b[0mh\u001b[0m\u001b[0;34m,\u001b[0m \u001b[0ms\u001b[0m\u001b[0;34m,\u001b[0m \u001b[0mv\u001b[0m \u001b[0;34m=\u001b[0m \u001b[0mimg\u001b[0m\u001b[0;34m.\u001b[0m\u001b[0mconvert\u001b[0m\u001b[0;34m(\u001b[0m\u001b[0;34m\"HSV\"\u001b[0m\u001b[0;34m)\u001b[0m\u001b[0;34m.\u001b[0m\u001b[0msplit\u001b[0m\u001b[0;34m(\u001b[0m\u001b[0;34m)\u001b[0m\u001b[0;34m\u001b[0m\u001b[0;34m\u001b[0m\u001b[0m\n\u001b[0m\u001b[1;32m    110\u001b[0m \u001b[0;34m\u001b[0m\u001b[0m\n\u001b[1;32m    111\u001b[0m     \u001b[0mnp_h\u001b[0m \u001b[0;34m=\u001b[0m \u001b[0mnp\u001b[0m\u001b[0;34m.\u001b[0m\u001b[0marray\u001b[0m\u001b[0;34m(\u001b[0m\u001b[0mh\u001b[0m\u001b[0;34m,\u001b[0m \u001b[0mdtype\u001b[0m\u001b[0;34m=\u001b[0m\u001b[0mnp\u001b[0m\u001b[0;34m.\u001b[0m\u001b[0muint8\u001b[0m\u001b[0;34m)\u001b[0m\u001b[0;34m\u001b[0m\u001b[0;34m\u001b[0m\u001b[0m\n",
            "\u001b[0;32m/usr/local/lib/python3.10/dist-packages/PIL/Image.py\u001b[0m in \u001b[0;36mconvert\u001b[0;34m(self, mode, matrix, dither, palette, colors)\u001b[0m\n\u001b[1;32m   1150\u001b[0m \u001b[0;34m\u001b[0m\u001b[0m\n\u001b[1;32m   1151\u001b[0m         \u001b[0;32mtry\u001b[0m\u001b[0;34m:\u001b[0m\u001b[0;34m\u001b[0m\u001b[0;34m\u001b[0m\u001b[0m\n\u001b[0;32m-> 1152\u001b[0;31m             \u001b[0mim\u001b[0m \u001b[0;34m=\u001b[0m \u001b[0mself\u001b[0m\u001b[0;34m.\u001b[0m\u001b[0mim\u001b[0m\u001b[0;34m.\u001b[0m\u001b[0mconvert\u001b[0m\u001b[0;34m(\u001b[0m\u001b[0mmode\u001b[0m\u001b[0;34m,\u001b[0m \u001b[0mdither\u001b[0m\u001b[0;34m)\u001b[0m\u001b[0;34m\u001b[0m\u001b[0;34m\u001b[0m\u001b[0m\n\u001b[0m\u001b[1;32m   1153\u001b[0m         \u001b[0;32mexcept\u001b[0m \u001b[0mValueError\u001b[0m\u001b[0;34m:\u001b[0m\u001b[0;34m\u001b[0m\u001b[0;34m\u001b[0m\u001b[0m\n\u001b[1;32m   1154\u001b[0m             \u001b[0;32mtry\u001b[0m\u001b[0;34m:\u001b[0m\u001b[0;34m\u001b[0m\u001b[0;34m\u001b[0m\u001b[0m\n",
            "\u001b[0;31mKeyboardInterrupt\u001b[0m: "
          ]
        }
      ]
    },
    {
      "cell_type": "code",
      "source": [
        "model_1.eval()  # Set the model to evaluation mode\n",
        "val_correct = 0\n",
        "val_total = 0\n",
        "with torch.no_grad():\n",
        "    for inputs, labels in val_loader:\n",
        "        #inputs, labels = inputs.to(device), labels.to(device)\n",
        "        outputs = resnet_18(inputs)\n",
        "        _, predicted = torch.max(outputs, 1)\n",
        "        val_total += labels.size(0)\n",
        "        val_correct += (predicted == labels).sum().item()\n",
        "\n",
        "val_accuracy_resnet = 100 * val_correct / val_total\n",
        "print(f'Validation Accuracy: {val_accuracy_resnet:.2f}%')"
      ],
      "metadata": {
        "id": "Mkt7rV462zRr"
      },
      "execution_count": null,
      "outputs": []
    },
    {
      "cell_type": "markdown",
      "metadata": {
        "id": "NBvcWXKFr5Db"
      },
      "source": [
        "### Model 3: Tuning the hyperparameter tuned top 3 models with more epochs and early stopping\n"
      ]
    },
    {
      "cell_type": "markdown",
      "metadata": {
        "jp-MarkdownHeadingCollapsed": true,
        "id": "GK5v1x_3r5Db"
      },
      "source": [
        "#### **3a:**"
      ]
    },
    {
      "cell_type": "markdown",
      "metadata": {
        "id": "RiL7NTTOr5Dc"
      },
      "source": [
        "**Hypertuned Model Stats:**\n",
        "\n",
        "Epoch [1/5] for lr=0.001, batch_size=32, dropout=0.5, hidden_layers=2, hidden_units=256: Loss=0.6775, Accuracy=60.33%\n",
        "\n",
        "Epoch [2/5] for lr=0.001, batch_size=32, dropout=0.5, hidden_layers=2, hidden_units=256: Loss=0.6089, Accuracy=68.09%\n",
        "\n",
        "Epoch [3/5] for lr=0.001, batch_size=32, dropout=0.5, hidden_layers=2, hidden_units=256: Loss=0.5965, Accuracy=70.06%\n",
        "\n",
        "Epoch [4/5] for lr=0.001, batch_size=32, dropout=0.5, hidden_layers=2, hidden_units=256: Loss=0.5992, Accuracy=70.59%\n",
        "\n",
        "Epoch [5/5] for lr=0.001, batch_size=32, dropout=0.5, hidden_layers=2, hidden_units=256: Loss=0.6217, Accuracy=68.09%\n",
        "\n",
        "Validation Accuracy for lr=0.001, batch_size=32, dropout=0.5, hidden_layers=2, hidden_units=256: 71.52%\n"
      ]
    },
    {
      "cell_type": "code",
      "execution_count": null,
      "metadata": {
        "id": "dW0vOJzLr5Dd",
        "outputId": "297b77eb-6279-44ce-f42d-59f5da278b24"
      },
      "outputs": [
        {
          "data": {
            "text/plain": [
              "<bound method Module.parameters of Sequential(\n",
              "  (0): Conv2d(3, 64, kernel_size=(3, 3), stride=(1, 1), padding=(1, 1))\n",
              "  (1): ReLU()\n",
              "  (2): MaxPool2d(kernel_size=2, stride=2, padding=0, dilation=1, ceil_mode=False)\n",
              "  (3): Conv2d(64, 128, kernel_size=(3, 3), stride=(1, 1), padding=(1, 1))\n",
              "  (4): ReLU()\n",
              "  (5): MaxPool2d(kernel_size=2, stride=2, padding=0, dilation=1, ceil_mode=False)\n",
              "  (6): Conv2d(128, 256, kernel_size=(3, 3), stride=(1, 1), padding=(1, 1))\n",
              "  (7): ReLU()\n",
              "  (8): MaxPool2d(kernel_size=2, stride=2, padding=0, dilation=1, ceil_mode=False)\n",
              "  (9): Conv2d(256, 512, kernel_size=(3, 3), stride=(1, 1), padding=(1, 1))\n",
              "  (10): ReLU()\n",
              "  (11): MaxPool2d(kernel_size=2, stride=2, padding=0, dilation=1, ceil_mode=False)\n",
              "  (12): Flatten(start_dim=1, end_dim=-1)\n",
              "  (13): Linear(in_features=131072, out_features=256, bias=True)\n",
              "  (14): ReLU()\n",
              "  (15): Dropout(p=0.5, inplace=False)\n",
              "  (16): Linear(in_features=256, out_features=256, bias=True)\n",
              "  (17): ReLU()\n",
              "  (18): Dropout(p=0.5, inplace=False)\n",
              "  (19): Linear(in_features=256, out_features=2, bias=True)\n",
              "  (20): Softmax(dim=None)\n",
              ")>"
            ]
          },
          "execution_count": 21,
          "metadata": {},
          "output_type": "execute_result"
        }
      ],
      "source": [
        "# Creating a loader to help load files in batch from dataset to help reduce memory useage.\n",
        "\n",
        "batchsize = 32\n",
        "\n",
        "train_loader = DataLoader(train_dataset, batch_size= batchsize, shuffle= True)\n",
        "val_loader = DataLoader(val_dataset, batch_size= batchsize, shuffle= False)\n",
        "\n",
        "model_3a = nn.Sequential(\n",
        "    nn.Conv2d(3, 64, kernel_size=3, stride=1, padding=1),  # Conv layer 1\n",
        "    nn.ReLU(),\n",
        "    nn.MaxPool2d(kernel_size=2, stride=2),\n",
        "\n",
        "    nn.Conv2d(64, 128, kernel_size=3, stride=1, padding=1),  # Conv layer 1\n",
        "    nn.ReLU(),\n",
        "    nn.MaxPool2d(kernel_size=2, stride=2),                 # Pooling\n",
        "\n",
        "    nn.Conv2d(128, 256, kernel_size=3, stride=1, padding=1),  # Conv layer 3\n",
        "    nn.ReLU(),\n",
        "    nn.MaxPool2d(kernel_size=2, stride=2),\n",
        "\n",
        "    nn.Conv2d(256, 512, kernel_size=3, stride=1, padding=1),  # Conv layer 3\n",
        "    nn.ReLU(),\n",
        "    nn.MaxPool2d(kernel_size=2, stride=2),\n",
        "\n",
        "    nn.Flatten(),  # Flatten the 3D tensor into a 1D vector\n",
        "\n",
        "    nn.Linear(512 * 16 * 16, 256),  # Fully connected layer\n",
        "    nn.ReLU(),\n",
        "    nn.Dropout(0.5),\n",
        "\n",
        "    nn.Linear(256, 256),  # Fully connected layer\n",
        "    nn.ReLU(),\n",
        "    nn.Dropout(0.5),\n",
        "\n",
        "    nn.Linear(256, 2),          # Output layer for binary classification\n",
        "    nn.Softmax()                # Applying softmax to classify it as class emergency or not-emergency\n",
        ")\n",
        "\n",
        "# Loss function and optimizer\n",
        "criterion = nn.CrossEntropyLoss()  # Binary Cross Entropy Loss with logits\n",
        "optimizer = optim.Adam(model_3a.parameters(), lr=0.001)\n",
        "\n",
        "model_3a.parameters"
      ]
    },
    {
      "cell_type": "markdown",
      "metadata": {
        "id": "C83tcEaAr5Dd"
      },
      "source": [
        "**Training model_3a**"
      ]
    },
    {
      "cell_type": "code",
      "execution_count": null,
      "metadata": {
        "id": "7XrBUzWMr5De",
        "outputId": "7f92bbc7-f904-42e8-a184-f81334368a78"
      },
      "outputs": [
        {
          "name": "stdout",
          "output_type": "stream",
          "text": [
            "Epoch [1/10], Loss: 0.6633, Accuracy: 62.46%\n",
            "Validation Accuracy: 71.21%, Validation Loss: 0.59\n",
            "Epoch [2/10], Loss: 0.6075, Accuracy: 70.06%\n",
            "Validation Accuracy: 70.00%, Validation Loss: 0.61\n",
            "Epoch [3/10], Loss: 0.5970, Accuracy: 70.90%\n",
            "Validation Accuracy: 70.61%, Validation Loss: 0.61\n",
            "Epoch [4/10], Loss: 0.5959, Accuracy: 71.35%\n",
            "Validation Accuracy: 69.09%, Validation Loss: 0.61\n",
            "Early stopping\n"
          ]
        }
      ],
      "source": [
        "epochs = 10\n",
        "model_3a.apply(reset_weights)\n",
        "\n",
        "early_stopping = EarlyStopping(patience= 3, min_delta= 0.01)\n",
        "\n",
        "for epoch in range(epochs):\n",
        "    model_3a.train()\n",
        "    running_loss = 0.0\n",
        "    total = 0\n",
        "    correct = 0\n",
        "\n",
        "    for images, labels in train_loader:\n",
        "        # Forward pass\n",
        "        outputs = model_3a(images)\n",
        "\n",
        "        # Compute loss\n",
        "        loss = criterion(outputs, labels)\n",
        "\n",
        "        # Backward pass and optimization\n",
        "        optimizer.zero_grad()\n",
        "        loss.backward()\n",
        "        optimizer.step()\n",
        "\n",
        "        # Track the loss and accuracy\n",
        "        running_loss += loss.item()\n",
        "        prob, predicted = torch.max(outputs, 1)\n",
        "        total += labels.size(0)\n",
        "        correct += (predicted == labels).sum().item()\n",
        "\n",
        "    epoch_loss = running_loss / len(train_loader)\n",
        "    epoch_accuracy = 100 * correct / total\n",
        "    print(f'Epoch [{epoch+1}/{epochs}], Loss: {epoch_loss:.4f}, Accuracy: {epoch_accuracy:.2f}%')\n",
        "\n",
        "    # Evaluate the model on the validation set\n",
        "\n",
        "    model_3a.eval()  # Set the model to evaluation mode\n",
        "    val_correct = 0\n",
        "    val_total = 0\n",
        "    val_loss = 0\n",
        "    with torch.no_grad():\n",
        "        for inputs, labels in val_loader:\n",
        "            #inputs, labels = inputs.to(device), labels.to(device)\n",
        "            outputs = model_3a(inputs)\n",
        "            _, predicted = torch.max(outputs, 1)\n",
        "            val_total += labels.size(0)\n",
        "            val_correct += (predicted == labels).sum().item()\n",
        "            val_loss += criterion(outputs, labels).item()\n",
        "\n",
        "    val_accuracy = 100 * val_correct / val_total\n",
        "    val_loss /= len(val_loader)\n",
        "    print(f'Validation Accuracy: {val_accuracy:.2f}%, Validation Loss: {val_loss:.2f}')\n",
        "\n",
        "    early_stopping(val_loss)\n",
        "    if early_stopping.early_stop:\n",
        "        print(\"Early stopping\")\n",
        "        break"
      ]
    },
    {
      "cell_type": "code",
      "execution_count": null,
      "metadata": {
        "id": "qqAWrotrr5De",
        "outputId": "4f978055-eccb-4825-db4d-b411128bafd8"
      },
      "outputs": [
        {
          "name": "stdout",
          "output_type": "stream",
          "text": [
            "Validation Accuracy on model 3a: 69.09%\n"
          ]
        }
      ],
      "source": [
        "model_3a.eval()  # Set the model to evaluation mode\n",
        "val_correct = 0\n",
        "val_total = 0\n",
        "with torch.no_grad():\n",
        "    for inputs, labels in val_loader:\n",
        "        #inputs, labels = inputs.to(device), labels.to(device)\n",
        "        outputs = model_3a(inputs)\n",
        "        _, predicted = torch.max(outputs, 1)\n",
        "        val_total += labels.size(0)\n",
        "        val_correct += (predicted == labels).sum().item()\n",
        "\n",
        "val_accuracy_3a = 100 * val_correct / val_total\n",
        "print(f'Validation Accuracy on model 3a: {val_accuracy_3a:.2f}%')"
      ]
    },
    {
      "cell_type": "markdown",
      "metadata": {
        "jp-MarkdownHeadingCollapsed": true,
        "id": "6Zl-re6ar5De"
      },
      "source": [
        "#### **3b:**"
      ]
    },
    {
      "cell_type": "markdown",
      "metadata": {
        "id": "qZsL7Ufdr5Df"
      },
      "source": [
        "**Hypertuned Model Stats:**\n",
        "\n",
        "Epoch [1/5] for lr=0.001, batch_size=16, dropout=0.5, hidden_layers=3, hidden_units=128: Loss=0.6767, Accuracy=58.74%\n",
        "\n",
        "Epoch [2/5] for lr=0.001, batch_size=16, dropout=0.5, hidden_layers=3, hidden_units=128: Loss=0.6403, Accuracy=63.15%\n",
        "\n",
        "Epoch [3/5] for lr=0.001, batch_size=16, dropout=0.5, hidden_layers=3, hidden_units=128: Loss=0.6105, Accuracy=69.00%\n",
        "\n",
        "Epoch [4/5] for lr=0.001, batch_size=16, dropout=0.5, hidden_layers=3, hidden_units=128: Loss=0.5908, Accuracy=71.66%\n",
        "\n",
        "Epoch [5/5] for lr=0.001, batch_size=16, dropout=0.5, hidden_layers=3, hidden_units=128: Loss=0.6277, Accuracy=68.16%\n",
        "\n",
        "Validation Accuracy for lr=0.001, batch_size=16, dropout=0.5, hidden_layers=3, hidden_units=128: 70.91%\n",
        "\n"
      ]
    },
    {
      "cell_type": "code",
      "execution_count": null,
      "metadata": {
        "id": "EcO0H53fr5Df",
        "outputId": "a19b0ca7-3473-45cb-a8b7-d1936918d27a"
      },
      "outputs": [
        {
          "data": {
            "text/plain": [
              "<bound method Module.parameters of Sequential(\n",
              "  (0): Conv2d(3, 64, kernel_size=(3, 3), stride=(1, 1), padding=(1, 1))\n",
              "  (1): ReLU()\n",
              "  (2): MaxPool2d(kernel_size=2, stride=2, padding=0, dilation=1, ceil_mode=False)\n",
              "  (3): Conv2d(64, 128, kernel_size=(3, 3), stride=(1, 1), padding=(1, 1))\n",
              "  (4): ReLU()\n",
              "  (5): MaxPool2d(kernel_size=2, stride=2, padding=0, dilation=1, ceil_mode=False)\n",
              "  (6): Conv2d(128, 256, kernel_size=(3, 3), stride=(1, 1), padding=(1, 1))\n",
              "  (7): ReLU()\n",
              "  (8): MaxPool2d(kernel_size=2, stride=2, padding=0, dilation=1, ceil_mode=False)\n",
              "  (9): Conv2d(256, 512, kernel_size=(3, 3), stride=(1, 1), padding=(1, 1))\n",
              "  (10): ReLU()\n",
              "  (11): MaxPool2d(kernel_size=2, stride=2, padding=0, dilation=1, ceil_mode=False)\n",
              "  (12): Flatten(start_dim=1, end_dim=-1)\n",
              "  (13): Linear(in_features=131072, out_features=128, bias=True)\n",
              "  (14): ReLU()\n",
              "  (15): Dropout(p=0.5, inplace=False)\n",
              "  (16): Linear(in_features=128, out_features=128, bias=True)\n",
              "  (17): ReLU()\n",
              "  (18): Dropout(p=0.5, inplace=False)\n",
              "  (19): Linear(in_features=128, out_features=128, bias=True)\n",
              "  (20): ReLU()\n",
              "  (21): Dropout(p=0.5, inplace=False)\n",
              "  (22): Linear(in_features=128, out_features=2, bias=True)\n",
              "  (23): Softmax(dim=None)\n",
              ")>"
            ]
          },
          "execution_count": 24,
          "metadata": {},
          "output_type": "execute_result"
        }
      ],
      "source": [
        "# Creating a loader to help load files in batch from dataset to help reduce memory useage.\n",
        "\n",
        "batchsize = 16\n",
        "\n",
        "train_loader = DataLoader(train_dataset, batch_size= batchsize, shuffle= True)\n",
        "val_loader = DataLoader(val_dataset, batch_size= batchsize, shuffle= False)\n",
        "\n",
        "model_3b = nn.Sequential(\n",
        "    nn.Conv2d(3, 64, kernel_size=3, stride=1, padding=1),  # Conv layer 1\n",
        "    nn.ReLU(),\n",
        "    nn.MaxPool2d(kernel_size=2, stride=2),\n",
        "\n",
        "    nn.Conv2d(64, 128, kernel_size=3, stride=1, padding=1),  # Conv layer 1\n",
        "    nn.ReLU(),\n",
        "    nn.MaxPool2d(kernel_size=2, stride=2),                 # Pooling\n",
        "\n",
        "    nn.Conv2d(128, 256, kernel_size=3, stride=1, padding=1),  # Conv layer 3\n",
        "    nn.ReLU(),\n",
        "    nn.MaxPool2d(kernel_size=2, stride=2),\n",
        "\n",
        "    nn.Conv2d(256, 512, kernel_size=3, stride=1, padding=1),  # Conv layer 3\n",
        "    nn.ReLU(),\n",
        "    nn.MaxPool2d(kernel_size=2, stride=2),\n",
        "\n",
        "    nn.Flatten(),  # Flatten the 3D tensor into a 1D vector\n",
        "\n",
        "    nn.Linear(512 * 16 * 16, 128),  # Fully connected layer\n",
        "    nn.ReLU(),\n",
        "    nn.Dropout(0.5),\n",
        "\n",
        "    nn.Linear(128, 128),  # Fully connected layer\n",
        "    nn.ReLU(),\n",
        "    nn.Dropout(0.5),\n",
        "\n",
        "    nn.Linear(128, 128),  # Fully connected layer\n",
        "    nn.ReLU(),\n",
        "    nn.Dropout(0.5),\n",
        "\n",
        "    nn.Linear(128, 2),          # Output layer for binary classification\n",
        "    nn.Softmax()                # Applying softmax to classify it as class emergency or not-emergency\n",
        ")\n",
        "\n",
        "# Loss function and optimizer\n",
        "criterion = nn.CrossEntropyLoss()  # Binary Cross Entropy Loss with logits\n",
        "optimizer = optim.Adam(model_3b.parameters(), lr=0.001)\n",
        "\n",
        "model_3b.parameters"
      ]
    },
    {
      "cell_type": "markdown",
      "metadata": {
        "id": "5Wu_Aq2Er5Df"
      },
      "source": [
        "**Training model_3b**"
      ]
    },
    {
      "cell_type": "code",
      "execution_count": null,
      "metadata": {
        "id": "yV8zzDiHr5Df",
        "outputId": "efa41a58-8109-44bf-c4ea-5f403341a4d3"
      },
      "outputs": [
        {
          "name": "stdout",
          "output_type": "stream",
          "text": [
            "Epoch [1/10], Loss: 0.6846, Accuracy: 57.29%\n",
            "Validation Accuracy: 58.48%, Validation Loss: 0.67\n",
            "Epoch [2/10], Loss: 0.7107, Accuracy: 58.66%\n",
            "Validation Accuracy: 58.48%, Validation Loss: 0.70\n",
            "Epoch [3/10], Loss: 0.6698, Accuracy: 58.97%\n",
            "Validation Accuracy: 58.48%, Validation Loss: 0.72\n",
            "Epoch [4/10], Loss: 0.7292, Accuracy: 58.74%\n",
            "Validation Accuracy: 58.48%, Validation Loss: 0.72\n",
            "Early stopping\n"
          ]
        }
      ],
      "source": [
        "epochs = 10\n",
        "model_3b.apply(reset_weights)\n",
        "\n",
        "early_stopping = EarlyStopping(patience= 3, min_delta= 0.01)\n",
        "\n",
        "for epoch in range(epochs):\n",
        "    model_3b.train()\n",
        "    running_loss = 0.0\n",
        "    total = 0\n",
        "    correct = 0\n",
        "\n",
        "    for images, labels in train_loader:\n",
        "        # Forward pass\n",
        "        outputs = model_3b(images)\n",
        "\n",
        "        # Compute loss\n",
        "        loss = criterion(outputs, labels)\n",
        "\n",
        "        # Backward pass and optimization\n",
        "        optimizer.zero_grad()\n",
        "        loss.backward()\n",
        "        optimizer.step()\n",
        "\n",
        "        # Track the loss and accuracy\n",
        "        running_loss += loss.item()\n",
        "        prob, predicted = torch.max(outputs, 1)\n",
        "        total += labels.size(0)\n",
        "        correct += (predicted == labels).sum().item()\n",
        "\n",
        "    epoch_loss = running_loss / len(train_loader)\n",
        "    epoch_accuracy = 100 * correct / total\n",
        "    print(f'Epoch [{epoch+1}/{epochs}], Loss: {epoch_loss:.4f}, Accuracy: {epoch_accuracy:.2f}%')\n",
        "\n",
        "    # Evaluate the model on the validation set\n",
        "\n",
        "    model_3b.eval()  # Set the model to evaluation mode\n",
        "    val_correct = 0\n",
        "    val_total = 0\n",
        "    val_loss = 0\n",
        "    with torch.no_grad():\n",
        "        for inputs, labels in val_loader:\n",
        "            #inputs, labels = inputs.to(device), labels.to(device)\n",
        "            outputs = model_3b(inputs)\n",
        "            _, predicted = torch.max(outputs, 1)\n",
        "            val_total += labels.size(0)\n",
        "            val_correct += (predicted == labels).sum().item()\n",
        "            val_loss += criterion(outputs, labels).item()\n",
        "\n",
        "    val_accuracy = 100 * val_correct / val_total\n",
        "    val_loss /= len(val_loader)\n",
        "    print(f'Validation Accuracy: {val_accuracy:.2f}%, Validation Loss: {val_loss:.2f}')\n",
        "\n",
        "    early_stopping(val_loss)\n",
        "    if early_stopping.early_stop:\n",
        "        print(\"Early stopping\")\n",
        "        break"
      ]
    },
    {
      "cell_type": "code",
      "execution_count": null,
      "metadata": {
        "id": "WRjdqyGpr5Dg",
        "outputId": "203551a5-e335-4d72-97db-6792e412eec8"
      },
      "outputs": [
        {
          "name": "stdout",
          "output_type": "stream",
          "text": [
            "Validation Accuracy on model 3b: 58.48%\n"
          ]
        }
      ],
      "source": [
        "model_3b.eval()  # Set the model to evaluation mode\n",
        "val_correct = 0\n",
        "val_total = 0\n",
        "with torch.no_grad():\n",
        "    for inputs, labels in val_loader:\n",
        "        #inputs, labels = inputs.to(device), labels.to(device)\n",
        "        outputs = model_3b(inputs)\n",
        "        _, predicted = torch.max(outputs, 1)\n",
        "        val_total += labels.size(0)\n",
        "        val_correct += (predicted == labels).sum().item()\n",
        "\n",
        "val_accuracy_3b = 100 * val_correct / val_total\n",
        "print(f'Validation Accuracy on model 3b: {val_accuracy_3b:.2f}%')"
      ]
    },
    {
      "cell_type": "markdown",
      "metadata": {
        "jp-MarkdownHeadingCollapsed": true,
        "id": "sjH0ioyYr5Dg"
      },
      "source": [
        "#### **3c:**"
      ]
    },
    {
      "cell_type": "markdown",
      "metadata": {
        "id": "V58VLqahr5Dg"
      },
      "source": [
        "**Hypertuned Model Stats:**\n",
        "\n",
        "Epoch [1/5] for lr=0.001, batch_size=32, dropout=0.3, hidden_layers=2, hidden_units=128: Loss=0.7353, Accuracy=55.62%\n",
        "\n",
        "Epoch [2/5] for lr=0.001, batch_size=32, dropout=0.3, hidden_layers=2, hidden_units=128: Loss=0.6234, Accuracy=68.54%\n",
        "\n",
        "Epoch [3/5] for lr=0.001, batch_size=32, dropout=0.3, hidden_layers=2, hidden_units=128: Loss=0.5904, Accuracy=71.05%\n",
        "\n",
        "Epoch [4/5] for lr=0.001, batch_size=32, dropout=0.3, hidden_layers=2, hidden_units=128: Loss=0.5864, Accuracy=72.49%\n",
        "\n",
        "Epoch [5/5] for lr=0.001, batch_size=32, dropout=0.3, hidden_layers=2, hidden_units=128: Loss=0.5717, Accuracy=73.02%\n",
        "\n",
        "Validation Accuracy for lr=0.001, batch_size=32, dropout=0.3, hidden_layers=2, hidden_units=128: 70.61%\n",
        "\n"
      ]
    },
    {
      "cell_type": "code",
      "execution_count": null,
      "metadata": {
        "id": "PwzeaM67r5Dh",
        "outputId": "1b523403-a2c8-4ab0-9236-5907db9f3e49"
      },
      "outputs": [
        {
          "data": {
            "text/plain": [
              "<bound method Module.parameters of Sequential(\n",
              "  (0): Conv2d(3, 64, kernel_size=(3, 3), stride=(1, 1), padding=(1, 1))\n",
              "  (1): ReLU()\n",
              "  (2): MaxPool2d(kernel_size=2, stride=2, padding=0, dilation=1, ceil_mode=False)\n",
              "  (3): Conv2d(64, 128, kernel_size=(3, 3), stride=(1, 1), padding=(1, 1))\n",
              "  (4): ReLU()\n",
              "  (5): MaxPool2d(kernel_size=2, stride=2, padding=0, dilation=1, ceil_mode=False)\n",
              "  (6): Conv2d(128, 256, kernel_size=(3, 3), stride=(1, 1), padding=(1, 1))\n",
              "  (7): ReLU()\n",
              "  (8): MaxPool2d(kernel_size=2, stride=2, padding=0, dilation=1, ceil_mode=False)\n",
              "  (9): Conv2d(256, 512, kernel_size=(3, 3), stride=(1, 1), padding=(1, 1))\n",
              "  (10): ReLU()\n",
              "  (11): MaxPool2d(kernel_size=2, stride=2, padding=0, dilation=1, ceil_mode=False)\n",
              "  (12): Flatten(start_dim=1, end_dim=-1)\n",
              "  (13): Linear(in_features=131072, out_features=128, bias=True)\n",
              "  (14): ReLU()\n",
              "  (15): Dropout(p=0.3, inplace=False)\n",
              "  (16): Linear(in_features=128, out_features=128, bias=True)\n",
              "  (17): ReLU()\n",
              "  (18): Dropout(p=0.3, inplace=False)\n",
              "  (19): Linear(in_features=128, out_features=2, bias=True)\n",
              "  (20): Softmax(dim=None)\n",
              ")>"
            ]
          },
          "execution_count": 27,
          "metadata": {},
          "output_type": "execute_result"
        }
      ],
      "source": [
        "# Creating a loader to help load files in batch from dataset to help reduce memory useage.\n",
        "\n",
        "batchsize = 32\n",
        "\n",
        "train_loader = DataLoader(train_dataset, batch_size= batchsize, shuffle= True)\n",
        "val_loader = DataLoader(val_dataset, batch_size= batchsize, shuffle= False)\n",
        "\n",
        "model_3c = nn.Sequential(\n",
        "    nn.Conv2d(3, 64, kernel_size=3, stride=1, padding=1),  # Conv layer 1\n",
        "    nn.ReLU(),\n",
        "    nn.MaxPool2d(kernel_size=2, stride=2),\n",
        "\n",
        "    nn.Conv2d(64, 128, kernel_size=3, stride=1, padding=1),  # Conv layer 1\n",
        "    nn.ReLU(),\n",
        "    nn.MaxPool2d(kernel_size=2, stride=2),                 # Pooling\n",
        "\n",
        "    nn.Conv2d(128, 256, kernel_size=3, stride=1, padding=1),  # Conv layer 3\n",
        "    nn.ReLU(),\n",
        "    nn.MaxPool2d(kernel_size=2, stride=2),\n",
        "\n",
        "    nn.Conv2d(256, 512, kernel_size=3, stride=1, padding=1),  # Conv layer 3\n",
        "    nn.ReLU(),\n",
        "    nn.MaxPool2d(kernel_size=2, stride=2),\n",
        "\n",
        "    nn.Flatten(),  # Flatten the 3D tensor into a 1D vector\n",
        "\n",
        "    nn.Linear(512 * 16 * 16, 128),  # Fully connected layer\n",
        "    nn.ReLU(),\n",
        "    nn.Dropout(0.3),\n",
        "\n",
        "    nn.Linear(128, 128),  # Fully connected layer\n",
        "    nn.ReLU(),\n",
        "    nn.Dropout(0.3),\n",
        "\n",
        "    nn.Linear(128, 2),          # Output layer for binary classification\n",
        "    nn.Softmax()                # Applying softmax to classify it as class emergency or not-emergency\n",
        ")\n",
        "\n",
        "# Loss function and optimizer\n",
        "criterion = nn.CrossEntropyLoss()  # Binary Cross Entropy Loss with logits\n",
        "optimizer = optim.Adam(model_3c.parameters(), lr=0.001)\n",
        "\n",
        "model_3c.parameters"
      ]
    },
    {
      "cell_type": "markdown",
      "metadata": {
        "id": "B87rzJrAr5Dh"
      },
      "source": [
        "**Training model_3c**"
      ]
    },
    {
      "cell_type": "code",
      "execution_count": null,
      "metadata": {
        "id": "Zcu4uFdKr5Dh",
        "outputId": "2c73302c-bbc4-4c10-eeb7-7563365e436a"
      },
      "outputs": [
        {
          "name": "stdout",
          "output_type": "stream",
          "text": [
            "Epoch [1/10], Loss: 0.6605, Accuracy: 61.25%\n",
            "Validation Accuracy: 68.48%, Validation Loss: 0.61\n",
            "Epoch [2/10], Loss: 0.6002, Accuracy: 69.00%\n",
            "Validation Accuracy: 70.61%, Validation Loss: 0.58\n",
            "Epoch [3/10], Loss: 0.5773, Accuracy: 72.64%\n",
            "Validation Accuracy: 70.00%, Validation Loss: 0.61\n",
            "Epoch [4/10], Loss: 0.6746, Accuracy: 64.13%\n",
            "Validation Accuracy: 58.48%, Validation Loss: 0.70\n",
            "Epoch [5/10], Loss: 0.7336, Accuracy: 58.66%\n",
            "Validation Accuracy: 58.48%, Validation Loss: 0.70\n",
            "Early stopping\n"
          ]
        }
      ],
      "source": [
        "epochs = 10\n",
        "model_3c.apply(reset_weights)\n",
        "\n",
        "early_stopping = EarlyStopping(patience= 3, min_delta= 0.01)\n",
        "\n",
        "for epoch in range(epochs):\n",
        "    model_3c.train()\n",
        "    running_loss = 0.0\n",
        "    total = 0\n",
        "    correct = 0\n",
        "\n",
        "    for images, labels in train_loader:\n",
        "        # Forward pass\n",
        "        outputs = model_3c(images)\n",
        "\n",
        "        # Compute loss\n",
        "        loss = criterion(outputs, labels)\n",
        "\n",
        "        # Backward pass and optimization\n",
        "        optimizer.zero_grad()\n",
        "        loss.backward()\n",
        "        optimizer.step()\n",
        "\n",
        "        # Track the loss and accuracy\n",
        "        running_loss += loss.item()\n",
        "        prob, predicted = torch.max(outputs, 1)\n",
        "        total += labels.size(0)\n",
        "        correct += (predicted == labels).sum().item()\n",
        "\n",
        "    epoch_loss = running_loss / len(train_loader)\n",
        "    epoch_accuracy = 100 * correct / total\n",
        "    print(f'Epoch [{epoch+1}/{epochs}], Loss: {epoch_loss:.4f}, Accuracy: {epoch_accuracy:.2f}%')\n",
        "\n",
        "    # Evaluate the model on the validation set\n",
        "\n",
        "    model_3c.eval()  # Set the model to evaluation mode\n",
        "    val_correct = 0\n",
        "    val_total = 0\n",
        "    val_loss = 0\n",
        "    with torch.no_grad():\n",
        "        for inputs, labels in val_loader:\n",
        "            #inputs, labels = inputs.to(device), labels.to(device)\n",
        "            outputs = model_3c(inputs)\n",
        "            _, predicted = torch.max(outputs, 1)\n",
        "            val_total += labels.size(0)\n",
        "            val_correct += (predicted == labels).sum().item()\n",
        "            val_loss += criterion(outputs, labels).item()\n",
        "\n",
        "    val_accuracy = 100 * val_correct / val_total\n",
        "    val_loss /= len(val_loader)\n",
        "    print(f'Validation Accuracy: {val_accuracy:.2f}%, Validation Loss: {val_loss:.2f}')\n",
        "\n",
        "    early_stopping(val_loss)\n",
        "    if early_stopping.early_stop:\n",
        "        print(\"Early stopping\")\n",
        "        break"
      ]
    },
    {
      "cell_type": "code",
      "execution_count": null,
      "metadata": {
        "id": "DeFqtwZ9r5Dh",
        "outputId": "de89f34c-6fd4-4d19-d571-9996c5d92d80"
      },
      "outputs": [
        {
          "name": "stdout",
          "output_type": "stream",
          "text": [
            "Validation Accuracy on model 3b: 58.48%\n"
          ]
        }
      ],
      "source": [
        "model_3c.eval()  # Set the model to evaluation mode\n",
        "val_correct = 0\n",
        "val_total = 0\n",
        "with torch.no_grad():\n",
        "    for inputs, labels in val_loader:\n",
        "        #inputs, labels = inputs.to(device), labels.to(device)\n",
        "        outputs = model_3c(inputs)\n",
        "        _, predicted = torch.max(outputs, 1)\n",
        "        val_total += labels.size(0)\n",
        "        val_correct += (predicted == labels).sum().item()\n",
        "\n",
        "val_accuracy_3c = 100 * val_correct / val_total\n",
        "print(f'Validation Accuracy on model 3b: {val_accuracy_3c:.2f}%')"
      ]
    },
    {
      "cell_type": "markdown",
      "metadata": {
        "id": "QNmPbxTTr5Di"
      },
      "source": [
        "#### **3d:**"
      ]
    },
    {
      "cell_type": "markdown",
      "metadata": {
        "id": "WR7fN7wor5Di"
      },
      "source": [
        "**Hypertuned Model Stats:**\n",
        "\n",
        "Epoch [1/5] for lr=0.001, batch_size=32, dropout=0.5, hidden_layers=3, hidden_units=128: Loss=0.6791, Accuracy=58.05%\n",
        "\n",
        "Epoch [2/5] for lr=0.001, batch_size=32, dropout=0.5, hidden_layers=3, hidden_units=128: Loss=0.6305, Accuracy=66.41%\n",
        "\n",
        "Epoch [3/5] for lr=0.001, batch_size=32, dropout=0.5, hidden_layers=3, hidden_units=128: Loss=0.5957, Accuracy=69.68%\n",
        "\n",
        "Epoch [4/5] for lr=0.001, batch_size=32, dropout=0.5, hidden_layers=3, hidden_units=128: Loss=0.5957, Accuracy=70.74%\n",
        "\n",
        "Epoch [5/5] for lr=0.001, batch_size=32, dropout=0.5, hidden_layers=3, hidden_units=128: Loss=0.6156, Accuracy=69.60%\n",
        "\n",
        "Validation Accuracy for lr=0.001, batch_size=32, dropout=0.5, hidden_layers=3, hidden_units=128: 70.00%\n",
        "\n"
      ]
    },
    {
      "cell_type": "code",
      "execution_count": null,
      "metadata": {
        "id": "e1xPJn2tr5Dl",
        "outputId": "fbe4b062-63b6-45bf-b5d4-d2c5a19c6187"
      },
      "outputs": [
        {
          "data": {
            "text/plain": [
              "<bound method Module.parameters of Sequential(\n",
              "  (0): Conv2d(3, 64, kernel_size=(3, 3), stride=(1, 1), padding=(1, 1))\n",
              "  (1): ReLU()\n",
              "  (2): MaxPool2d(kernel_size=2, stride=2, padding=0, dilation=1, ceil_mode=False)\n",
              "  (3): Conv2d(64, 128, kernel_size=(3, 3), stride=(1, 1), padding=(1, 1))\n",
              "  (4): ReLU()\n",
              "  (5): MaxPool2d(kernel_size=2, stride=2, padding=0, dilation=1, ceil_mode=False)\n",
              "  (6): Conv2d(128, 256, kernel_size=(3, 3), stride=(1, 1), padding=(1, 1))\n",
              "  (7): ReLU()\n",
              "  (8): MaxPool2d(kernel_size=2, stride=2, padding=0, dilation=1, ceil_mode=False)\n",
              "  (9): Conv2d(256, 512, kernel_size=(3, 3), stride=(1, 1), padding=(1, 1))\n",
              "  (10): ReLU()\n",
              "  (11): MaxPool2d(kernel_size=2, stride=2, padding=0, dilation=1, ceil_mode=False)\n",
              "  (12): Flatten(start_dim=1, end_dim=-1)\n",
              "  (13): Linear(in_features=131072, out_features=128, bias=True)\n",
              "  (14): ReLU()\n",
              "  (15): Dropout(p=0.5, inplace=False)\n",
              "  (16): Linear(in_features=128, out_features=128, bias=True)\n",
              "  (17): ReLU()\n",
              "  (18): Dropout(p=0.5, inplace=False)\n",
              "  (19): Linear(in_features=128, out_features=128, bias=True)\n",
              "  (20): ReLU()\n",
              "  (21): Dropout(p=0.5, inplace=False)\n",
              "  (22): Linear(in_features=128, out_features=2, bias=True)\n",
              "  (23): Softmax(dim=None)\n",
              ")>"
            ]
          },
          "execution_count": 30,
          "metadata": {},
          "output_type": "execute_result"
        }
      ],
      "source": [
        "# Creating a loader to help load files in batch from dataset to help reduce memory useage.\n",
        "\n",
        "batchsize = 32\n",
        "\n",
        "train_loader = DataLoader(train_dataset, batch_size= batchsize, shuffle= True)\n",
        "val_loader = DataLoader(val_dataset, batch_size= batchsize, shuffle= False)\n",
        "\n",
        "model_3d = nn.Sequential(\n",
        "    nn.Conv2d(3, 64, kernel_size=3, stride=1, padding=1),  # Conv layer 1\n",
        "    nn.ReLU(),\n",
        "    nn.MaxPool2d(kernel_size=2, stride=2),\n",
        "\n",
        "    nn.Conv2d(64, 128, kernel_size=3, stride=1, padding=1),  # Conv layer 1\n",
        "    nn.ReLU(),\n",
        "    nn.MaxPool2d(kernel_size=2, stride=2),                 # Pooling\n",
        "\n",
        "    nn.Conv2d(128, 256, kernel_size=3, stride=1, padding=1),  # Conv layer 3\n",
        "    nn.ReLU(),\n",
        "    nn.MaxPool2d(kernel_size=2, stride=2),\n",
        "\n",
        "    nn.Conv2d(256, 512, kernel_size=3, stride=1, padding=1),  # Conv layer 3\n",
        "    nn.ReLU(),\n",
        "    nn.MaxPool2d(kernel_size=2, stride=2),\n",
        "\n",
        "    nn.Flatten(),  # Flatten the 3D tensor into a 1D vector\n",
        "\n",
        "    nn.Linear(512 * 16 * 16, 128),  # Fully connected layer\n",
        "    nn.ReLU(),\n",
        "    nn.Dropout(0.5),\n",
        "\n",
        "    nn.Linear(128, 128),  # Fully connected layer\n",
        "    nn.ReLU(),\n",
        "    nn.Dropout(0.5),\n",
        "\n",
        "    nn.Linear(128, 128),  # Fully connected layer\n",
        "    nn.ReLU(),\n",
        "    nn.Dropout(0.5),\n",
        "\n",
        "    nn.Linear(128, 2),          # Output layer for binary classification\n",
        "    nn.Softmax()                # Applying softmax to classify it as class emergency or not-emergency\n",
        ")\n",
        "\n",
        "# Loss function and optimizer\n",
        "criterion = nn.CrossEntropyLoss()  # Binary Cross Entropy Loss with logits\n",
        "optimizer = optim.Adam(model_3d.parameters(), lr=0.001)\n",
        "\n",
        "model_3d.parameters"
      ]
    },
    {
      "cell_type": "markdown",
      "metadata": {
        "id": "EvF57XbVr5Dm"
      },
      "source": [
        "**Training model_3d**"
      ]
    },
    {
      "cell_type": "code",
      "execution_count": null,
      "metadata": {
        "id": "Z8WuoGNZr5Dm",
        "outputId": "e05f273b-98ad-4373-ff04-1ce411623f3f"
      },
      "outputs": [
        {
          "name": "stdout",
          "output_type": "stream",
          "text": [
            "Epoch [1/10], Loss: 0.7056, Accuracy: 56.76%\n",
            "Validation Accuracy: 58.48%, Validation Loss: 0.70\n",
            "Epoch [2/10], Loss: 0.7243, Accuracy: 58.59%\n",
            "Validation Accuracy: 58.48%, Validation Loss: 0.70\n",
            "Epoch [3/10], Loss: 0.7278, Accuracy: 58.74%\n",
            "Validation Accuracy: 58.48%, Validation Loss: 0.70\n",
            "Epoch [4/10], Loss: 0.7179, Accuracy: 58.66%\n",
            "Validation Accuracy: 58.48%, Validation Loss: 0.70\n",
            "Early stopping\n"
          ]
        }
      ],
      "source": [
        "epochs = 10\n",
        "model_3d.apply(reset_weights)\n",
        "\n",
        "early_stopping = EarlyStopping(patience= 3, min_delta= 0.01)\n",
        "\n",
        "for epoch in range(epochs):\n",
        "    model_3d.train()\n",
        "    running_loss = 0.0\n",
        "    total = 0\n",
        "    correct = 0\n",
        "\n",
        "    for images, labels in train_loader:\n",
        "        # Forward pass\n",
        "        outputs = model_3d(images)\n",
        "\n",
        "        # Compute loss\n",
        "        loss = criterion(outputs, labels)\n",
        "\n",
        "        # Backward pass and optimization\n",
        "        optimizer.zero_grad()\n",
        "        loss.backward()\n",
        "        optimizer.step()\n",
        "\n",
        "        # Track the loss and accuracy\n",
        "        running_loss += loss.item()\n",
        "        prob, predicted = torch.max(outputs, 1)\n",
        "        total += labels.size(0)\n",
        "        correct += (predicted == labels).sum().item()\n",
        "\n",
        "    epoch_loss = running_loss / len(train_loader)\n",
        "    epoch_accuracy = 100 * correct / total\n",
        "    print(f'Epoch [{epoch+1}/{epochs}], Loss: {epoch_loss:.4f}, Accuracy: {epoch_accuracy:.2f}%')\n",
        "\n",
        "    # Evaluate the model on the validation set\n",
        "\n",
        "    model_3d.eval()  # Set the model to evaluation mode\n",
        "    val_correct = 0\n",
        "    val_total = 0\n",
        "    val_loss = 0\n",
        "    with torch.no_grad():\n",
        "        for inputs, labels in val_loader:\n",
        "            #inputs, labels = inputs.to(device), labels.to(device)\n",
        "            outputs = model_3d(inputs)\n",
        "            _, predicted = torch.max(outputs, 1)\n",
        "            val_total += labels.size(0)\n",
        "            val_correct += (predicted == labels).sum().item()\n",
        "            val_loss += criterion(outputs, labels).item()\n",
        "\n",
        "    val_accuracy = 100 * val_correct / val_total\n",
        "    val_loss /= len(val_loader)\n",
        "    print(f'Validation Accuracy: {val_accuracy:.2f}%, Validation Loss: {val_loss:.2f}')\n",
        "\n",
        "    early_stopping(val_loss)\n",
        "    if early_stopping.early_stop:\n",
        "        print(\"Early stopping\")\n",
        "        break"
      ]
    },
    {
      "cell_type": "code",
      "execution_count": null,
      "metadata": {
        "id": "794XuzIBr5Dn",
        "outputId": "adc98385-0999-45ae-bad2-58ec1dea6164"
      },
      "outputs": [
        {
          "name": "stdout",
          "output_type": "stream",
          "text": [
            "Validation Accuracy on model 3b: 58.48%\n"
          ]
        }
      ],
      "source": [
        "model_3d.eval()  # Set the model to evaluation mode\n",
        "val_correct = 0\n",
        "val_total = 0\n",
        "with torch.no_grad():\n",
        "    for inputs, labels in val_loader:\n",
        "        #inputs, labels = inputs.to(device), labels.to(device)\n",
        "        outputs = model_3d(inputs)\n",
        "        _, predicted = torch.max(outputs, 1)\n",
        "        val_total += labels.size(0)\n",
        "        val_correct += (predicted == labels).sum().item()\n",
        "\n",
        "val_accuracy_3d = 100 * val_correct / val_total\n",
        "print(f'Validation Accuracy on model 3b: {val_accuracy_3d:.2f}%')"
      ]
    },
    {
      "cell_type": "markdown",
      "metadata": {
        "id": "qRo2zqbnr5Dn"
      },
      "source": [
        "#### Selecting the best of four model as model_3"
      ]
    },
    {
      "cell_type": "code",
      "execution_count": null,
      "metadata": {
        "id": "GBjy1P79r5Dn",
        "outputId": "cdc93dc1-db4c-4f44-b026-3b5d2a6166c6"
      },
      "outputs": [
        {
          "data": {
            "text/plain": [
              "69.0909090909091"
            ]
          },
          "execution_count": 33,
          "metadata": {},
          "output_type": "execute_result"
        }
      ],
      "source": [
        "# Change the model to model which has highest accuracy on val data set.\n",
        "\n",
        "model_3 = model_3a\n",
        "accuracy = val_accuracy_3a\n",
        "\n",
        "if val_accuracy_3b > accuracy:\n",
        "    model_3 = model_3b\n",
        "    accuracy = val_accuracy_3b\n",
        "\n",
        "if val_accuracy_3c > accuracy:\n",
        "    model_3 = model_3c\n",
        "    accuracy = val_accuracy_3c\n",
        "\n",
        "if val_accuracy_3d > accuracy:\n",
        "    model_3 = model_3d\n",
        "    accuracy = val_accuracy_3d\n",
        "\n",
        "accuracy\n",
        ""
      ]
    },
    {
      "cell_type": "markdown",
      "metadata": {
        "jp-MarkdownHeadingCollapsed": true,
        "id": "OhHAzdAYr5Dn"
      },
      "source": [
        "## Test Set prediction"
      ]
    },
    {
      "cell_type": "markdown",
      "metadata": {
        "id": "OQQ5Md0Ir5Do"
      },
      "source": [
        "#### Using Model 3"
      ]
    },
    {
      "cell_type": "code",
      "execution_count": null,
      "metadata": {
        "id": "lWlWj7UapDKc",
        "outputId": "53007199-a9f3-499c-c9e9-0df9af2770c5"
      },
      "outputs": [
        {
          "data": {
            "text/plain": [
              "['emergency', 'non_emergency']"
            ]
          },
          "execution_count": 34,
          "metadata": {},
          "output_type": "execute_result"
        }
      ],
      "source": [
        "import pandas as pd\n",
        "\n",
        "test_csv = pd.read_csv(r\"C:\\Dropbox\\GenAI\\Analytics_Vidhya\\Hackathons\\Deep_Learning_Hackathon\\test.csv\")\n",
        "\n",
        "# Defaulting all vehicles to be classified as emergency\n",
        "test_csv['emergency_or_not'] = 1\n",
        "\n",
        "test_csv.head()\n",
        "\n",
        "train_dataset.classes"
      ]
    },
    {
      "cell_type": "code",
      "execution_count": null,
      "metadata": {
        "id": "4ZGS-qPmr5Do",
        "outputId": "97ddf576-1563-4c7b-b474-e33ecfce82fb"
      },
      "outputs": [
        {
          "name": "stdout",
          "output_type": "stream",
          "text": [
            "Predicted Class: emergency\n",
            "Predicted Class: emergency\n",
            "Predicted Class: emergency\n",
            "Predicted Class: emergency\n",
            "Predicted Class: emergency\n",
            "Predicted Class: emergency\n",
            "Predicted Class: emergency\n",
            "Predicted Class: emergency\n",
            "Predicted Class: emergency\n",
            "Predicted Class: emergency\n",
            "Predicted Class: emergency\n",
            "Predicted Class: emergency\n",
            "Predicted Class: emergency\n",
            "Predicted Class: emergency\n",
            "Predicted Class: emergency\n",
            "Predicted Class: emergency\n",
            "Predicted Class: emergency\n",
            "Predicted Class: emergency\n",
            "Predicted Class: emergency\n",
            "Predicted Class: emergency\n",
            "Predicted Class: emergency\n",
            "Predicted Class: emergency\n",
            "Predicted Class: emergency\n",
            "Predicted Class: emergency\n",
            "Predicted Class: emergency\n",
            "Predicted Class: emergency\n",
            "Predicted Class: emergency\n",
            "Predicted Class: emergency\n",
            "Predicted Class: emergency\n",
            "Predicted Class: emergency\n",
            "Predicted Class: emergency\n",
            "Predicted Class: emergency\n",
            "Predicted Class: emergency\n",
            "Predicted Class: emergency\n",
            "Predicted Class: emergency\n",
            "Predicted Class: emergency\n",
            "Predicted Class: emergency\n",
            "Predicted Class: emergency\n",
            "Predicted Class: emergency\n",
            "Predicted Class: emergency\n",
            "Predicted Class: emergency\n",
            "Predicted Class: emergency\n",
            "Predicted Class: emergency\n",
            "Predicted Class: emergency\n",
            "Predicted Class: emergency\n",
            "Predicted Class: emergency\n",
            "Predicted Class: emergency\n",
            "Predicted Class: emergency\n",
            "Predicted Class: emergency\n",
            "Predicted Class: emergency\n",
            "Predicted Class: emergency\n",
            "Predicted Class: emergency\n",
            "Predicted Class: emergency\n",
            "Predicted Class: emergency\n",
            "Predicted Class: emergency\n",
            "Predicted Class: emergency\n",
            "Predicted Class: emergency\n",
            "Predicted Class: emergency\n",
            "Predicted Class: emergency\n",
            "Predicted Class: emergency\n",
            "Predicted Class: emergency\n",
            "Predicted Class: emergency\n",
            "Predicted Class: emergency\n",
            "Predicted Class: emergency\n",
            "Predicted Class: emergency\n",
            "Predicted Class: emergency\n",
            "Predicted Class: emergency\n",
            "Predicted Class: emergency\n",
            "Predicted Class: emergency\n",
            "Predicted Class: emergency\n",
            "Predicted Class: emergency\n",
            "Predicted Class: emergency\n",
            "Predicted Class: emergency\n",
            "Predicted Class: emergency\n",
            "Predicted Class: emergency\n",
            "Predicted Class: emergency\n",
            "Predicted Class: emergency\n",
            "Predicted Class: emergency\n",
            "Predicted Class: emergency\n",
            "Predicted Class: emergency\n",
            "Predicted Class: emergency\n",
            "Predicted Class: emergency\n",
            "Predicted Class: emergency\n",
            "Predicted Class: emergency\n",
            "Predicted Class: emergency\n",
            "Predicted Class: emergency\n",
            "Predicted Class: emergency\n",
            "Predicted Class: emergency\n",
            "Predicted Class: emergency\n",
            "Predicted Class: emergency\n",
            "Predicted Class: emergency\n",
            "Predicted Class: emergency\n",
            "Predicted Class: emergency\n",
            "Predicted Class: emergency\n",
            "Predicted Class: emergency\n",
            "Predicted Class: emergency\n",
            "Predicted Class: emergency\n",
            "Predicted Class: emergency\n",
            "Predicted Class: emergency\n",
            "Predicted Class: emergency\n",
            "Predicted Class: emergency\n",
            "Predicted Class: emergency\n",
            "Predicted Class: emergency\n",
            "Predicted Class: emergency\n",
            "Predicted Class: emergency\n",
            "Predicted Class: emergency\n",
            "Predicted Class: emergency\n",
            "Predicted Class: emergency\n",
            "Predicted Class: emergency\n",
            "Predicted Class: emergency\n",
            "Predicted Class: emergency\n",
            "Predicted Class: emergency\n",
            "Predicted Class: emergency\n",
            "Predicted Class: emergency\n",
            "Predicted Class: emergency\n",
            "Predicted Class: emergency\n",
            "Predicted Class: emergency\n",
            "Predicted Class: emergency\n",
            "Predicted Class: emergency\n",
            "Predicted Class: emergency\n",
            "Predicted Class: emergency\n",
            "Predicted Class: emergency\n",
            "Predicted Class: emergency\n",
            "Predicted Class: emergency\n",
            "Predicted Class: emergency\n",
            "Predicted Class: emergency\n",
            "Predicted Class: emergency\n",
            "Predicted Class: emergency\n",
            "Predicted Class: emergency\n",
            "Predicted Class: emergency\n",
            "Predicted Class: emergency\n",
            "Predicted Class: emergency\n",
            "Predicted Class: emergency\n",
            "Predicted Class: emergency\n",
            "Predicted Class: emergency\n",
            "Predicted Class: emergency\n",
            "Predicted Class: emergency\n",
            "Predicted Class: emergency\n",
            "Predicted Class: emergency\n",
            "Predicted Class: emergency\n",
            "Predicted Class: emergency\n",
            "Predicted Class: emergency\n",
            "Predicted Class: emergency\n",
            "Predicted Class: emergency\n",
            "Predicted Class: emergency\n",
            "Predicted Class: emergency\n",
            "Predicted Class: emergency\n",
            "Predicted Class: emergency\n",
            "Predicted Class: emergency\n",
            "Predicted Class: emergency\n",
            "Predicted Class: emergency\n",
            "Predicted Class: emergency\n",
            "Predicted Class: emergency\n",
            "Predicted Class: emergency\n",
            "Predicted Class: emergency\n",
            "Predicted Class: emergency\n",
            "Predicted Class: emergency\n",
            "Predicted Class: emergency\n",
            "Predicted Class: emergency\n",
            "Predicted Class: emergency\n",
            "Predicted Class: emergency\n",
            "Predicted Class: emergency\n",
            "Predicted Class: emergency\n",
            "Predicted Class: emergency\n",
            "Predicted Class: emergency\n",
            "Predicted Class: emergency\n",
            "Predicted Class: emergency\n",
            "Predicted Class: emergency\n",
            "Predicted Class: emergency\n",
            "Predicted Class: emergency\n",
            "Predicted Class: emergency\n",
            "Predicted Class: emergency\n",
            "Predicted Class: emergency\n",
            "Predicted Class: emergency\n",
            "Predicted Class: emergency\n",
            "Predicted Class: emergency\n",
            "Predicted Class: emergency\n",
            "Predicted Class: emergency\n",
            "Predicted Class: emergency\n",
            "Predicted Class: emergency\n",
            "Predicted Class: emergency\n",
            "Predicted Class: emergency\n",
            "Predicted Class: emergency\n",
            "Predicted Class: emergency\n",
            "Predicted Class: emergency\n",
            "Predicted Class: emergency\n",
            "Predicted Class: emergency\n",
            "Predicted Class: emergency\n",
            "Predicted Class: emergency\n",
            "Predicted Class: emergency\n",
            "Predicted Class: emergency\n",
            "Predicted Class: emergency\n",
            "Predicted Class: emergency\n",
            "Predicted Class: emergency\n",
            "Predicted Class: emergency\n",
            "Predicted Class: emergency\n",
            "Predicted Class: emergency\n",
            "Predicted Class: emergency\n",
            "Predicted Class: emergency\n",
            "Predicted Class: emergency\n",
            "Predicted Class: emergency\n",
            "Predicted Class: emergency\n",
            "Predicted Class: emergency\n",
            "Predicted Class: emergency\n",
            "Predicted Class: emergency\n",
            "Predicted Class: emergency\n",
            "Predicted Class: emergency\n",
            "Predicted Class: emergency\n",
            "Predicted Class: emergency\n",
            "Predicted Class: emergency\n",
            "Predicted Class: emergency\n",
            "Predicted Class: emergency\n",
            "Predicted Class: emergency\n",
            "Predicted Class: emergency\n",
            "Predicted Class: emergency\n",
            "Predicted Class: emergency\n",
            "Predicted Class: emergency\n",
            "Predicted Class: emergency\n",
            "Predicted Class: emergency\n",
            "Predicted Class: emergency\n",
            "Predicted Class: emergency\n",
            "Predicted Class: emergency\n",
            "Predicted Class: emergency\n"
          ]
        }
      ],
      "source": [
        "# We open images one by one and eval them via our model.\n",
        "\n",
        "for img in test_csv.image_names:\n",
        "    # Load a single image\n",
        "    image_path = rf\"{src}\\{img}\"\n",
        "    image = Image.open(image_path)\n",
        "    image = test_transform(image).unsqueeze(0)  # Apply transformations and add batch dimension\n",
        "\n",
        "    # Perform inference\n",
        "    model_3.eval()\n",
        "\n",
        "    with torch.no_grad():\n",
        "        output = model_3(image)\n",
        "        prob, pred = torch.max(output, 1)\n",
        "\n",
        "        if pred:\n",
        "            test_csv.loc[test_csv['image_names'] == img, 'emergency_or_not'] = 0\n",
        "        else:\n",
        "            print(f\"Predicted Class: {train_dataset.classes[pred]}\")\n",
        "\n",
        "\n",
        "test_csv.to_csv(r'C:\\Dropbox\\GenAI\\Analytics_Vidhya\\Hackathons\\Deep_Learning_Hackathon\\Soultion3.csv', index=False)\n",
        ""
      ]
    },
    {
      "cell_type": "code",
      "execution_count": null,
      "metadata": {
        "id": "FDEhERqcr5Do"
      },
      "outputs": [],
      "source": []
    }
  ],
  "metadata": {
    "accelerator": "TPU",
    "colab": {
      "gpuType": "V28",
      "provenance": []
    },
    "kernelspec": {
      "display_name": "Python 3",
      "name": "python3"
    },
    "language_info": {
      "codemirror_mode": {
        "name": "ipython",
        "version": 3
      },
      "file_extension": ".py",
      "mimetype": "text/x-python",
      "name": "python",
      "nbconvert_exporter": "python",
      "pygments_lexer": "ipython3",
      "version": "3.10.4"
    }
  },
  "nbformat": 4,
  "nbformat_minor": 0
}